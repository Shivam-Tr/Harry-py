{
  "cells": [
    {
      "cell_type": "markdown",
      "metadata": {
        "id": "view-in-github",
        "colab_type": "text"
      },
      "source": [
        "<a href=\"https://colab.research.google.com/github/Shivam-Tr/Harry-py/blob/main/Haary_python_full_code_.ipynb\" target=\"_parent\"><img src=\"https://colab.research.google.com/assets/colab-badge.svg\" alt=\"Open In Colab\"/></a>"
      ]
    },
    {
      "cell_type": "code",
      "execution_count": null,
      "metadata": {
        "colab": {
          "base_uri": "https://localhost:8080/"
        },
        "id": "85rPgwxmfwsx",
        "outputId": "f3e2837a-9237-4723-a462-0fd4ea860bff"
      },
      "outputs": [
        {
          "name": "stdout",
          "output_type": "stream",
          "text": [
            "Hello World\n"
          ]
        }
      ],
      "source": [
        "print(\"Hello World\")"
      ]
    },
    {
      "cell_type": "code",
      "execution_count": null,
      "metadata": {
        "colab": {
          "base_uri": "https://localhost:8080/"
        },
        "id": "4JeXPJc4f2Ad",
        "outputId": "c5a66844-6c62-4437-872a-e8587c47e9aa"
      },
      "outputs": [
        {
          "name": "stdout",
          "output_type": "stream",
          "text": [
            "Hello world! I am learning Python from CodeWithHarry YouTube channel!\n"
          ]
        }
      ],
      "source": [
        "print(\"Hello world! I am learning Python from CodeWithHarry YouTube channel!\")"
      ]
    },
    {
      "cell_type": "code",
      "execution_count": null,
      "metadata": {
        "colab": {
          "base_uri": "https://localhost:8080/"
        },
        "id": "GwqrIzjSgBTB",
        "outputId": "40384e07-fb17-4d0a-c1c8-b6440e27e6cc"
      },
      "outputs": [
        {
          "name": "stdout",
          "output_type": "stream",
          "text": [
            "Main code started\n"
          ]
        }
      ],
      "source": [
        "#Single Line Comment:\n",
        "\n",
        "\n",
        "#This is a comment\n",
        "print(\"Main code started\")\n",
        "\n",
        "#Now I will write my code here:\n"
      ]
    },
    {
      "cell_type": "code",
      "execution_count": null,
      "metadata": {
        "colab": {
          "base_uri": "https://localhost:8080/"
        },
        "id": "BKwAxx9CgU7c",
        "outputId": "0bf5bf40-4ef5-4e3c-84fb-1a7c1eabf956"
      },
      "outputs": [
        {
          "name": "stdout",
          "output_type": "stream",
          "text": [
            "Main code started\n"
          ]
        }
      ],
      "source": [
        "#Multi-Line Comment:\n",
        "\n",
        "\n",
        "'''This is a comment\n",
        "Author: Harry\n",
        "Date: 27 November 2020\n",
        "Multi-line comment ends here\n",
        "'''\n",
        "print(\"Main code started\")\n",
        "\n",
        "#Now I will write my code here:\n"
      ]
    },
    {
      "cell_type": "code",
      "execution_count": null,
      "metadata": {
        "colab": {
          "base_uri": "https://localhost:8080/"
        },
        "id": "dbdhKlQggbKp",
        "outputId": "c9e96088-81fd-4059-cbc6-25bd9fa64c54"
      },
      "outputs": [
        {
          "name": "stdout",
          "output_type": "stream",
          "text": [
            "Harry is a programmer\n",
            "88\n"
          ]
        }
      ],
      "source": [
        "# print statement for printing strings\n",
        "\n",
        "print(\"Harry is a programmer\")\n",
        "\n",
        "# Print statement with a literal\n",
        "print(1+87)\n",
        "\n",
        "#This will print \"Harry is a programmer\" and 88 on the screen respectively!"
      ]
    },
    {
      "cell_type": "code",
      "execution_count": null,
      "metadata": {
        "colab": {
          "base_uri": "https://localhost:8080/"
        },
        "id": "GSUy66fKrhWC",
        "outputId": "622ef461-7c53-46dc-be92-61aba19b87a5"
      },
      "outputs": [
        {
          "name": "stdout",
          "output_type": "stream",
          "text": [
            "Harry is a programmer**88\n"
          ]
        }
      ],
      "source": [
        "# print statement for printing strings with end argument\n",
        "\n",
        "print(\"Harry is a programmer\", end=\"**\")\n",
        "\n",
        "# Print statement with a literal\n",
        "print(1+87)\n",
        "\n",
        "#This will print \"Harry is a programmer**88\" on the screen "
      ]
    },
    {
      "cell_type": "code",
      "execution_count": null,
      "metadata": {
        "colab": {
          "base_uri": "https://localhost:8080/"
        },
        "id": "homhqyowhF6p",
        "outputId": "c2944497-2dfd-4f19-f7b3-471d221499cb"
      },
      "outputs": [
        {
          "name": "stdout",
          "output_type": "stream",
          "text": [
            "Harry is \n",
            " good boy \t1\n"
          ]
        }
      ],
      "source": [
        "#Escape Sequences:\n",
        "\n",
        "#Please dont remove this line\n",
        "\"\"\"\n",
        "This is a\n",
        "Multiline Comment\n",
        "\"\"\"\n",
        "\"\"\"\n",
        "This is a comment\n",
        "\"\"\"\n",
        "# print(\"Subscribe CodeWithHarry now\",\"Bhai video bhi like kar dena\")\n",
        "# print(\"next line\")\n",
        "# print(\"C:\\'narry\")\n",
        "# \\n \tInserts a new line in the text at the point\n",
        "# \\\\\tInserts a backslash character in the text at the point\n",
        "# \\\"  Inserts a double quote character in the text at that point\n",
        "\n",
        "# \\'  Inserts a single quote character in the text at that point\n",
        "# \\t  Inserts a tab in the text at that point\n",
        "\n",
        "# \\f\tInserts a form feed ln the text at that point\n",
        "#\\r   Inserts a carriage return in the text at that point\n",
        "\n",
        "# \\b\tInserts a backspace in the text at that point\n",
        "print(\"Harry is \\n good boy \\t1\") #comment after statement\n",
        "\n"
      ]
    },
    {
      "cell_type": "code",
      "execution_count": null,
      "metadata": {
        "id": "Qa26RQ2diYwD"
      },
      "outputs": [],
      "source": [
        "#Variable:\n",
        "\n",
        "a = 34 # Variable storing an integer\n",
        "b = 23.2 # Variable storing real number"
      ]
    },
    {
      "cell_type": "code",
      "execution_count": null,
      "metadata": {
        "colab": {
          "base_uri": "https://localhost:8080/"
        },
        "id": "Iknj1QZtmiIz",
        "outputId": "652dc906-7250-4f18-bf2e-f394c42476ac"
      },
      "outputs": [
        {
          "name": "stdout",
          "output_type": "stream",
          "text": [
            "95.854\n"
          ]
        }
      ],
      "source": [
        "# Variable in Python:\n",
        "abc = \"It's a string variable\"\n",
        "_abcnum = 40 # It is an example of int variable\n",
        "abc123 = 55.854 # It is an example of float variable\n",
        "print(_abcnum + abc123) # This will give sum of 40 + 55.854"
      ]
    },
    {
      "cell_type": "code",
      "execution_count": null,
      "metadata": {
        "colab": {
          "base_uri": "https://localhost:8080/",
          "height": 235
        },
        "id": "9W3qMllUnDNN",
        "outputId": "e86c4d99-5e56-4f57-bb2c-ce9337ed085b"
      },
      "outputs": [
        {
          "name": "stdout",
          "output_type": "stream",
          "text": [
            "<class 'str'>\n",
            "<class 'int'>\n"
          ]
        },
        {
          "ename": "NameError",
          "evalue": "ignored",
          "output_type": "error",
          "traceback": [
            "\u001b[0;31m---------------------------------------------------------------------------\u001b[0m",
            "\u001b[0;31mNameError\u001b[0m                                 Traceback (most recent call last)",
            "\u001b[0;32m<ipython-input-12-306a5ae8c8b2>\u001b[0m in \u001b[0;36m<module>\u001b[0;34m()\u001b[0m\n\u001b[1;32m      6\u001b[0m \u001b[0mdemo3\u001b[0m \u001b[0;34m=\u001b[0m \u001b[0mtype\u001b[0m\u001b[0;34m(\u001b[0m\u001b[0mdemo\u001b[0m\u001b[0;34m)\u001b[0m \u001b[0;31m#It will return data type as float\u001b[0m\u001b[0;34m\u001b[0m\u001b[0;34m\u001b[0m\u001b[0m\n\u001b[1;32m      7\u001b[0m \u001b[0mprint\u001b[0m\u001b[0;34m(\u001b[0m\u001b[0mdemo3\u001b[0m\u001b[0;34m)\u001b[0m \u001b[0;31m#It will print that data type\u001b[0m\u001b[0;34m\u001b[0m\u001b[0;34m\u001b[0m\u001b[0m\n\u001b[0;32m----> 8\u001b[0;31m \u001b[0mprint\u001b[0m\u001b[0;34m(\u001b[0m\u001b[0mtype\u001b[0m\u001b[0;34m(\u001b[0m\u001b[0mdemo2\u001b[0m\u001b[0;34m)\u001b[0m\u001b[0;34m)\u001b[0m \u001b[0;31m#It will give output as int type\u001b[0m\u001b[0;34m\u001b[0m\u001b[0;34m\u001b[0m\u001b[0m\n\u001b[0m",
            "\u001b[0;31mNameError\u001b[0m: name 'demo2' is not defined"
          ]
        }
      ],
      "source": [
        "# type() Function in Python:\n",
        "harry = \"40\" \n",
        "demo = 55.5 \n",
        "demo = 40 \n",
        "print (type(harry)) #It will give output as string type \n",
        "demo3 = type(demo) #It will return data type as float \n",
        "print(demo3) #It will print that data type \n",
        "print(type(demo2)) #It will give output as int type  "
      ]
    },
    {
      "cell_type": "code",
      "execution_count": null,
      "metadata": {
        "colab": {
          "base_uri": "https://localhost:8080/",
          "height": 130
        },
        "id": "Oxnh1MXVnsPD",
        "outputId": "39cf8e96-a414-4856-d8cb-45af67cf1ec6"
      },
      "outputs": [
        {
          "ename": "SyntaxError",
          "evalue": "ignored",
          "output_type": "error",
          "traceback": [
            "\u001b[0;36m  File \u001b[0;32m\"<ipython-input-13-4838704a3804>\"\u001b[0;36m, line \u001b[0;32m5\u001b[0m\n\u001b[0;31m    print(var1+var2) ''' It will give an error as we can't add string to any number. '''\u001b[0m\n\u001b[0m                                                                                       ^\u001b[0m\n\u001b[0;31mSyntaxError\u001b[0m\u001b[0;31m:\u001b[0m invalid syntax\n"
          ]
        }
      ],
      "source": [
        " #Note – We can't do numbers with strings arithmetic operations, i.e., we can't add a string to any number. Have a look at the\n",
        " \n",
        " var1 = \"It's a String\"\n",
        "var2 = 5\n",
        "print(var1+var2) ''' It will give an error as we can't add string to any number. '''"
      ]
    },
    {
      "cell_type": "code",
      "execution_count": null,
      "metadata": {
        "colab": {
          "base_uri": "https://localhost:8080/"
        },
        "id": "d9lnZvALoP97",
        "outputId": "96e9fb70-88f9-47e2-8517-dd8de6a5ce25"
      },
      "outputs": [
        {
          "name": "stdout",
          "output_type": "stream",
          "text": [
            "My Name is Harry\n",
            "My Name is Harry & I am a Good Boy.\n"
          ]
        }
      ],
      "source": [
        "#Note – We can add (concatenate) two or more strings, and the strings will be concatenated to return another string\n",
        "\n",
        "var1 = \"My Name is \"\n",
        "var2 = \"Harry\"\n",
        "var3 = var1+var2+\" & I am a Good Boy.\"\n",
        "print(var1+var2) # It will give output 'My Name is Harry'\n",
        "print(var3)"
      ]
    },
    {
      "cell_type": "code",
      "execution_count": null,
      "metadata": {
        "colab": {
          "base_uri": "https://localhost:8080/",
          "height": 130
        },
        "id": "hjTg-XafsPrC",
        "outputId": "7c9f89b5-323b-4967-a552-1ab256f2d9ae"
      },
      "outputs": [
        {
          "ename": "SyntaxError",
          "evalue": "ignored",
          "output_type": "error",
          "traceback": [
            "\u001b[0;36m  File \u001b[0;32m\"<ipython-input-15-104923e716da>\"\u001b[0;36m, line \u001b[0;32m4\u001b[0m\n\u001b[0;31m    print(Your Name is\",name) # It will show the name\u001b[0m\n\u001b[0m                  ^\u001b[0m\n\u001b[0;31mSyntaxError\u001b[0m\u001b[0;31m:\u001b[0m invalid syntax\n"
          ]
        }
      ],
      "source": [
        "# Input Function in Python:\n",
        "print(\"Enter your name : \")\n",
        "name = input() #It will take input from user\n",
        "print(Your Name is\",name) # It will show the name \n",
        "xyz = input(Enter your age : \")\n",
        "print(\"Your age is \",xyz)\n"
      ]
    },
    {
      "cell_type": "code",
      "execution_count": null,
      "metadata": {
        "colab": {
          "base_uri": "https://localhost:8080/"
        },
        "id": "4t8fUgJ2sqct",
        "outputId": "6499da94-42e1-4b9d-cc10-c40ec0d9e8e8"
      },
      "outputs": [
        {
          "name": "stdout",
          "output_type": "stream",
          "text": [
            "Enter First Number : \n",
            "6\n",
            "Enter Second Number : \n",
            "8\n",
            "The Sum is 8\n"
          ]
        }
      ],
      "source": [
        "# Quiz : \n",
        "print(\"Enter First Number : \")\n",
        "num1= input()\n",
        "print(\"Enter Second Number : \")\n",
        "num2=input()\n",
        "print(\"The Sum is\",num2) #It will give output as sum of two numbers."
      ]
    },
    {
      "cell_type": "code",
      "execution_count": null,
      "metadata": {
        "colab": {
          "base_uri": "https://localhost:8080/"
        },
        "id": "y_4V2Xc2sVQf",
        "outputId": "4cb14711-bff1-4b18-9458-4a6ac6829162"
      },
      "outputs": [
        {
          "name": "stdout",
          "output_type": "stream",
          "text": [
            "Enter first number\n",
            "8\n",
            "Enter second number\n",
            "6\n",
            "Sum of these two numbers is 14\n"
          ]
        }
      ],
      "source": [
        "#Typecasting :\n",
        "\n",
        "var1 = \"54\"\n",
        "var4 = \"32\"\n",
        "var2 = 4\n",
        "var3 = 36.7\n",
        "# print(100 * str(int(var1) + int(var4)) )\n",
        "# print(100 * \"Hello world\\n\")\n",
        "# print(\"Enter your number\")\n",
        "# inpnum = input()\n",
        "#\n",
        "# print(\"You entered\", int(inpnum)+10)\n",
        "\"\"\"\n",
        "str()\n",
        "int()\n",
        "float()\n",
        "\"\"\"\n",
        "\n",
        "\"\"\"\n",
        "Quiz - Solved in the video\n",
        "Exercise - Next video\n",
        "Project - Some awesome python utility\n",
        "\"\"\"\n",
        "# print(type(var1))\n",
        "\n",
        "print(\"Enter first number\")\n",
        "n1 = input()\n",
        "print(\"Enter second number\")\n",
        "n2 = input()\n",
        "print(\"Sum of these two numbers is\", int(n1) + int(n2))\n"
      ]
    },
    {
      "cell_type": "code",
      "execution_count": null,
      "metadata": {
        "id": "AhLjt_PSyMXG"
      },
      "outputs": [],
      "source": [
        "#len() Function :\n",
        "\n",
        "x = \"String Demo\""
      ]
    },
    {
      "cell_type": "code",
      "execution_count": null,
      "metadata": {
        "colab": {
          "base_uri": "https://localhost:8080/",
          "height": 130
        },
        "id": "BkMoB6Q1yOgU",
        "outputId": "236c2bde-fa7c-4f13-e367-ab946c4d8cc3"
      },
      "outputs": [
        {
          "ename": "SyntaxError",
          "evalue": "ignored",
          "output_type": "error",
          "traceback": [
            "\u001b[0;36m  File \u001b[0;32m\"<ipython-input-19-fb9620c309ae>\"\u001b[0;36m, line \u001b[0;32m10\u001b[0m\n\u001b[0;31m    print(demo.find(\"good\",\"nice\"))\u001b[0m\n\u001b[0m        ^\u001b[0m\n\u001b[0;31mSyntaxError\u001b[0m\u001b[0;31m:\u001b[0m invalid syntax\n"
          ]
        }
      ],
      "source": [
        "# String Slicing  Functions:\n",
        "\n",
        "demo = \"Aakash is a good boy\" \n",
        "print(demo.endswith(\"boy\"))\n",
        "print(demo.count('o'))\n",
        "print(demo.capitalize())\n",
        "print(demo.upper())\n",
        "print(demo.lower())\n",
        "print(demo.find(\"is\")\n",
        "print(demo.find(\"good\",\"nice\"))\n",
        "\n"
      ]
    },
    {
      "cell_type": "code",
      "execution_count": null,
      "metadata": {
        "colab": {
          "base_uri": "https://localhost:8080/"
        },
        "id": "8oNc4-nPyTM5",
        "outputId": "22ae20a2-eb0d-4846-f576-5a7a482a2fc6"
      },
      "outputs": [
        {
          "name": "stdout",
          "output_type": "stream",
          "text": [
            "False\n",
            "3\n",
            "Harry is a good boy\n",
            "Harry are a good boy\n"
          ]
        }
      ],
      "source": [
        "#function or string\n",
        "\n",
        "mystr = \"Harry is a good boy\"\n",
        "# print(len(mystr))\n",
        "# print(mystr[::-2])\n",
        "\n",
        "print(mystr.endswith(\"bdoy\"))\n",
        "print(mystr.count(\"o\"))\n",
        "print(mystr.capitalize())\n",
        "print(mystr.replace(\"is\", \"are\"))\n"
      ]
    },
    {
      "cell_type": "code",
      "execution_count": null,
      "metadata": {
        "id": "tvC7PA6dyYEr"
      },
      "outputs": [],
      "source": [
        "#Python Lists \n",
        "\n",
        "list1 = ['harry', 'ram', 'Aakash', 'shyam', 5, 4.85]"
      ]
    },
    {
      "cell_type": "code",
      "execution_count": null,
      "metadata": {
        "colab": {
          "base_uri": "https://localhost:8080/"
        },
        "id": "Dj47UlqKyejb",
        "outputId": "b5d5c371-7bb0-4c6f-c288-ef865eb0923d"
      },
      "outputs": [
        {
          "data": {
            "text/plain": [
              "['One', 'Two', 'Three']"
            ]
          },
          "execution_count": 22,
          "metadata": {},
          "output_type": "execute_result"
        }
      ],
      "source": [
        "#Lists in Python\n",
        "\n",
        "[]                                             # list with no member, empty list\n",
        "[1, 2, 3]                                    # list of integers \n",
        "[1, 2.5, 3.7, 9]                           # list of numbers (integers and floating point)\n",
        "['a', 'b', 'c']                               # lisst of characters\n",
        "['a', 1, 'b', 3.5, 'zero']                # list of mixed value types\n",
        "['One', 'Two', 'Three']               # list of strings "
      ]
    },
    {
      "cell_type": "code",
      "execution_count": null,
      "metadata": {
        "colab": {
          "base_uri": "https://localhost:8080/"
        },
        "id": "ApWqyZ3IyrD6",
        "outputId": "2ce13373-782d-4cec-8c4e-6aa6bc4cfeeb"
      },
      "outputs": [
        {
          "name": "stdout",
          "output_type": "stream",
          "text": [
            "[1, 8, 4, 3, 15, 20, 25, 89, 65]\n",
            "[1, 3, 4, 8, 15, 20, 25, 65, 89]\n",
            "[89, 65, 25, 20, 15, 8, 4, 3, 1]\n"
          ]
        }
      ],
      "source": [
        "# List Methods :\n",
        "l1=[1,8,4,3,15,20,25,89,65]       #l1 is a list\n",
        "print(l1)\n",
        "\n",
        "l1.sort()\n",
        "print(l1)      #l1 after sorting\n",
        "l1.reverse()\n",
        "print(l1)      #l1 after reversing all elements\n"
      ]
    },
    {
      "cell_type": "code",
      "execution_count": null,
      "metadata": {
        "colab": {
          "base_uri": "https://localhost:8080/",
          "height": 183
        },
        "id": "WYtFvCD9y4uR",
        "outputId": "4d733391-7625-4aff-8e52-10b3d05f8f66"
      },
      "outputs": [
        {
          "ename": "NameError",
          "evalue": "ignored",
          "output_type": "error",
          "traceback": [
            "\u001b[0;31m---------------------------------------------------------------------------\u001b[0m",
            "\u001b[0;31mNameError\u001b[0m                                 Traceback (most recent call last)",
            "\u001b[0;32m<ipython-input-24-cb952d041cc5>\u001b[0m in \u001b[0;36m<module>\u001b[0;34m()\u001b[0m\n\u001b[1;32m      1\u001b[0m \u001b[0;31m#List Slicing :\u001b[0m\u001b[0;34m\u001b[0m\u001b[0;34m\u001b[0m\u001b[0;34m\u001b[0m\u001b[0m\n\u001b[0;32m----> 2\u001b[0;31m \u001b[0mseq\u001b[0m \u001b[0;34m=\u001b[0m \u001b[0mlist1\u001b[0m\u001b[0;34m[\u001b[0m\u001b[0mstart_index\u001b[0m\u001b[0;34m:\u001b[0m\u001b[0mstop_index\u001b[0m\u001b[0;34m]\u001b[0m\u001b[0;34m\u001b[0m\u001b[0;34m\u001b[0m\u001b[0m\n\u001b[0m",
            "\u001b[0;31mNameError\u001b[0m: name 'start_index' is not defined"
          ]
        }
      ],
      "source": [
        "#List Slicing :\n",
        "seq = list1[start_index:stop_index]"
      ]
    },
    {
      "cell_type": "code",
      "execution_count": null,
      "metadata": {
        "colab": {
          "base_uri": "https://localhost:8080/",
          "height": 130
        },
        "id": "nqs7Qzs2y9ZT",
        "outputId": "83687e4e-80bc-485d-b2c0-e4b7e98e758a"
      },
      "outputs": [
        {
          "ename": "SyntaxError",
          "evalue": "ignored",
          "output_type": "error",
          "traceback": [
            "\u001b[0;36m  File \u001b[0;32m\"<ipython-input-25-f9e6c2276278>\"\u001b[0;36m, line \u001b[0;32m2\u001b[0m\n\u001b[0;31m    list1=[1,2,3,6,,5,4]     #list1 is a list\u001b[0m\n\u001b[0m                   ^\u001b[0m\n\u001b[0;31mSyntaxError\u001b[0m\u001b[0;31m:\u001b[0m invalid syntax\n"
          ]
        }
      ],
      "source": [
        "# List Methods :- \n",
        "list1=[1,2,3,6,,5,4]     #list1 is a list\n",
        "\n",
        "list1.append(7)    # This will add 7 in the last of list \n",
        "list1.insert(3,8)    # This will add 8 at 3 index in list\n",
        "list1.remove(1)    #This will remove 1 from the list \n",
        "list1.pop(2)          #This will delete and return index 2 value."
      ]
    },
    {
      "cell_type": "code",
      "execution_count": null,
      "metadata": {
        "id": "9YdloCGGzCz3"
      },
      "outputs": [],
      "source": [
        "# Tuples in Python :\n",
        "a=()    # It's an example of empty tuple\n",
        "x=(1,)   # Tuple with single value i.e. 1 \n",
        "tup1 = (1,2,3,4,5)\n",
        "tup1 = ('harry', 5, 'demo', 5.8)\n"
      ]
    },
    {
      "cell_type": "code",
      "execution_count": null,
      "metadata": {
        "colab": {
          "base_uri": "https://localhost:8080/"
        },
        "id": "Nki_VrXhzGoK",
        "outputId": "54972e65-0227-4736-addd-2b98800032d7"
      },
      "outputs": [
        {
          "name": "stdout",
          "output_type": "stream",
          "text": [
            "10 15\n",
            "15 10\n"
          ]
        }
      ],
      "source": [
        "# Swapping of two numbers :\n",
        "a = 10 \n",
        "b = 15\n",
        "print(a,b)     #It will give output as: 10 15\n",
        "a,b = b,a \n",
        "print(a,b)     #It will give output as: 15 10"
      ]
    },
    {
      "cell_type": "code",
      "execution_count": null,
      "metadata": {
        "colab": {
          "base_uri": "https://localhost:8080/"
        },
        "id": "59OT_fE0zJq8",
        "outputId": "66024a32-7f20-4ca2-c87f-1655adb45b49"
      },
      "outputs": [
        {
          "name": "stdout",
          "output_type": "stream",
          "text": [
            "8 1\n"
          ]
        }
      ],
      "source": [
        "#Python Lists And List Functions\n",
        "\n",
        "grocery = [\"Harpic\", \"vim bar\", \"deodrant\", \"Bhindi\",\n",
        "           \"Lollypop\", 56]\n",
        "# print(grocery[5])\n",
        "numbers = [2, 7, 9, 11, 3]\n",
        "# numbers.remove(9)\n",
        "# numbers.pop()\n",
        "# numbers.sort()\n",
        "# numbers = []\n",
        "# numbers.reverse()\n",
        "# numbers.append(1)\n",
        "# numbers.append(72)\n",
        "# numbers.append(5)\n",
        "# numbers.insert(2, 67)\n",
        "# print(numbers)\n",
        "# 3, 11, 9, 7, 2\n",
        "# print(numbers)\n",
        "# numbers[1] = 98\n",
        "# print(numbers)\n",
        "# Mutable - can change\n",
        "# Immutable - cannot change\n",
        "# tp = (1,)\n",
        "# print(tp)\n",
        "a= 1\n",
        "b = 8\n",
        "a, b = b,a\n",
        "# temp = a\n",
        "# a = b\n",
        "# b = temp\n",
        "print(a, b)\n",
        "\n"
      ]
    },
    {
      "cell_type": "code",
      "execution_count": null,
      "metadata": {
        "colab": {
          "base_uri": "https://localhost:8080/",
          "height": 130
        },
        "id": "_vlupMr1zRX4",
        "outputId": "56c351ac-76b1-4630-b1b6-0437f8dae503"
      },
      "outputs": [
        {
          "ename": "SyntaxError",
          "evalue": "ignored",
          "output_type": "error",
          "traceback": [
            "\u001b[0;36m  File \u001b[0;32m\"<ipython-input-29-1eb919502735>\"\u001b[0;36m, line \u001b[0;32m3\u001b[0m\n\u001b[0;31m    a = {'key', 'value', 'cow':'mooh'}\u001b[0m\n\u001b[0m                              ^\u001b[0m\n\u001b[0;31mSyntaxError\u001b[0m\u001b[0;31m:\u001b[0m invalid syntax\n"
          ]
        }
      ],
      "source": [
        "#Dictionary \n",
        "\n",
        "a = {'key', 'value', 'cow':'mooh'}\n",
        "print(a['cow'])\n",
        "#will print \"mooh\" on the screen"
      ]
    },
    {
      "cell_type": "code",
      "execution_count": null,
      "metadata": {
        "id": "uanTpwLhzYTS"
      },
      "outputs": [],
      "source": [
        "# Dictionary is nothing but key value pairs\n",
        "d1 = {}\n",
        "# print(type(d1))\n",
        "d2 = {\"Harry\":\"Burger\",\n",
        "      \"Rohan\":\"Fish\",\n",
        "      \"SkillF\":\"Roti\",\n",
        "      \"Shubham\":{\"B\":\"maggie\", \"L\":\"roti\", \"D\":\"Chicken\"}}\n",
        "# d2[\"Ankit\"] = \"Junk Food\"\n",
        "# d2[420] = \"Kebabs\"\n",
        "# print(d2)\n",
        "# del d2[420]\n",
        "# print(d2[\"Shubham\"])\n",
        "# d3 = d2.copy()\n",
        "# del d3[\"Harry\"]\n",
        "# d2.update({\"Leena\":\"Toffee\"})\n",
        "# print(d2.keys())\n",
        "# print(d2.items())\n"
      ]
    },
    {
      "cell_type": "code",
      "execution_count": null,
      "metadata": {
        "colab": {
          "base_uri": "https://localhost:8080/"
        },
        "id": "9SubKdgKziHU",
        "outputId": "5db7e1ba-1792-4da5-fb98-0f349cd70ee3"
      },
      "outputs": [
        {
          "name": "stdout",
          "output_type": "stream",
          "text": [
            "True\n"
          ]
        }
      ],
      "source": [
        "#Sets In Python\n",
        "s = set()\n",
        "# print(type(s))\n",
        "# l = [1, 2, 3, 4]\n",
        "# s_from_list = set(l)\n",
        "# print(s_from_list)\n",
        "# print(type(s_from_list))\n",
        "s.add(1)\n",
        "s.add(2)\n",
        "s.remove(2)\n",
        "s1 = {4, 6}\n",
        "print(s.isdisjoint(s1))\n",
        "\n"
      ]
    },
    {
      "cell_type": "code",
      "execution_count": null,
      "metadata": {
        "colab": {
          "base_uri": "https://localhost:8080/"
        },
        "id": "TWA0lf4b6CV7",
        "outputId": "a4758abd-eef4-4d67-81f4-c3d620ee2b60"
      },
      "outputs": [
        {
          "name": "stdout",
          "output_type": "stream",
          "text": [
            "What is your age?\n",
            "18\n",
            "We will think about you\n"
          ]
        }
      ],
      "source": [
        "#If Else & Elif Conditionals In Python\n",
        "\n",
        "# var1 = 6\n",
        "# var2 = 56\n",
        "# var3 = int(input())\n",
        "# if var3>var2:\n",
        "#     print(\"Greater\")\n",
        "# elif var3==var2:\n",
        "#     print(\"Equal\")\n",
        "# else:\n",
        "#     print(\"Lesser\")\n",
        "\n",
        "# list1 = [5, 7, 3]\n",
        "# print(15 not in list1)\n",
        "# if 15 not in list1:\n",
        "#     print(\"No its not in the list\")\n",
        "\n",
        "# Quiz\n",
        "print(\"What is your age?\")\n",
        "age = int(input())\n",
        "if age<18:\n",
        "    print(\"You cannot drive\")\n",
        "\n",
        "elif age==18:\n",
        "    print(\"We will think about you\")\n",
        "\n",
        "else:\n",
        "    print(\"You can drive\")\n",
        "\n",
        "\n",
        "\n"
      ]
    },
    {
      "cell_type": "code",
      "execution_count": null,
      "metadata": {
        "colab": {
          "base_uri": "https://localhost:8080/"
        },
        "id": "MW25r43E6aWp",
        "outputId": "c339366a-d7e2-4912-912d-1dc90c6adc90"
      },
      "outputs": [
        {
          "name": "stdout",
          "output_type": "stream",
          "text": [
            "Enter the Word\n",
            "ignore\n",
            "ignore means refuse to take notice of or acknowledge\n"
          ]
        }
      ],
      "source": [
        "# Create a dictionary and take input from the user and return the meaning of the\n",
        "# word from the dictionary\n",
        "\n",
        "Dict = {\"ignore\":\"refuse to take notice of or acknowledge\", \"abandon\":\"cease to support or look after\",\n",
        "        \"exaggerate\":\"enlarged or altered beyond normal proportions\", \"prejudice\":\"preconceived opinion that is not based on reason or actual experience\", \"programming\":\"the process of writing computer programs\"}\n",
        "print(\"Enter the Word\")\n",
        "Data1 = input()\n",
        "print(Data1, \"means\", Dict[Data1])\n"
      ]
    },
    {
      "cell_type": "code",
      "execution_count": null,
      "metadata": {
        "id": "FzL7fbmD6wy8"
      },
      "outputs": [],
      "source": [
        "# Exercise 2 - Faulty Calculator\n",
        "# 45 * 3 = 555, 56+9 = 77, 56/6 = 4\n",
        "# Design a calculator which will correctly solve all the problems except\n",
        "# the following ones:\n",
        "# 45 * 3 = 555, 56+9 = 77, 56/6 = 4\n",
        "# Your program should take operator  and the two numbers as input from the user\n",
        "# and then return the result\n"
      ]
    },
    {
      "cell_type": "code",
      "execution_count": null,
      "metadata": {
        "colab": {
          "base_uri": "https://localhost:8080/"
        },
        "id": "pMcR593j65og",
        "outputId": "acdd94e7-68ac-45cb-ddf2-e179900d68a6"
      },
      "outputs": [
        {
          "name": "stdout",
          "output_type": "stream",
          "text": [
            "Best Python Course CodeWithHarry\n",
            "Best C Languge Course CodeWithHarry\n",
            "Harry Sir Tom Cruise Of Programming\n"
          ]
        }
      ],
      "source": [
        "#Example of a for loop:\n",
        "\n",
        "dict1= {\"Best Python Course\": \"CodeWithHarry\",\n",
        "        \"Best C Languge Course\": \"CodeWithHarry\",\n",
        "        \"Harry Sir\":\"Tom Cruise Of Programming\"\n",
        "        }\n",
        "\n",
        "for x,y in dict1.items():\n",
        "    print(x, y)\n"
      ]
    },
    {
      "cell_type": "code",
      "execution_count": null,
      "metadata": {
        "colab": {
          "base_uri": "https://localhost:8080/"
        },
        "id": "A2H77AQ07F2L",
        "outputId": "13ad9fe0-2b69-480a-954d-321d1d0954c2"
      },
      "outputs": [
        {
          "name": "stdout",
          "output_type": "stream",
          "text": [
            "22\n",
            "21\n",
            "64\n",
            "23\n",
            "233\n",
            "23\n",
            "6\n"
          ]
        }
      ],
      "source": [
        "#For Loops In Python\n",
        "\n",
        "# list1 = [ [\"Harry\", 1], [\"Larry\", 2],\n",
        "#           [\"Carry\", 6], [\"Marie\", 250]]\n",
        "# dict1 = dict(list1)\n",
        "#\n",
        "# for item in dict1:\n",
        "#     print(item)\n",
        "# for item, lollypop in dict1.items():\n",
        "#     print(item, \"and lolly is \", lollypop)\n",
        "items = [int, float, \"HaERRY\", 5,3, 3, 22, 21, 64, 23, 233, 23, 6]\n",
        "\n",
        "for item in items:\n",
        "    if str(item).isnumeric() and item>=6:\n",
        "        print(item)\n",
        "\n"
      ]
    },
    {
      "cell_type": "code",
      "execution_count": null,
      "metadata": {
        "colab": {
          "base_uri": "https://localhost:8080/",
          "height": 130
        },
        "id": "KMK4Amd87QVs",
        "outputId": "98f82480-8a39-4aaf-fae2-77fdbf2088dc"
      },
      "outputs": [
        {
          "ename": "SyntaxError",
          "evalue": "ignored",
          "output_type": "error",
          "traceback": [
            "\u001b[0;36m  File \u001b[0;32m\"<ipython-input-37-1647a75c2021>\"\u001b[0;36m, line \u001b[0;32m5\u001b[0m\n\u001b[0;31m    Code inside the loop body\u001b[0m\n\u001b[0m              ^\u001b[0m\n\u001b[0;31mSyntaxError\u001b[0m\u001b[0;31m:\u001b[0m invalid syntax\n"
          ]
        }
      ],
      "source": [
        "'''While Loops\n",
        "To terminate an infinite loop, you can press Ctrl+C on your system.'''\n",
        "\n",
        "while codition_is_true:\n",
        "    Code inside the loop body"
      ]
    },
    {
      "cell_type": "code",
      "execution_count": null,
      "metadata": {
        "colab": {
          "base_uri": "https://localhost:8080/"
        },
        "id": "eQay6lEc7gU2",
        "outputId": "6681ee4d-2d37-406e-b6f7-44a81b47473a"
      },
      "outputs": [
        {
          "name": "stdout",
          "output_type": "stream",
          "text": [
            "The value of i is : 0\n",
            "The value of i is : 1\n",
            "The value of i is : 2\n",
            "The value of i is : 3\n",
            "The value of i is : 4\n",
            "The value of i is : 5\n",
            "The value of i is : 6\n",
            "The value of i is : 7\n",
            "The value of i is : 8\n",
            "The value of i is : 9\n",
            "The value of i is : 10\n",
            "Breaking the loop. \n"
          ]
        }
      ],
      "source": [
        "#Example Of Break Statement:\n",
        "\n",
        "i=0;\n",
        "while(True):\n",
        "    print(f\"The value of i is : {i}\")\n",
        "    i=i+1\n",
        "    if(i>10):\n",
        "        print(\"Breaking the loop. \")\n",
        "        break;"
      ]
    },
    {
      "cell_type": "code",
      "execution_count": null,
      "metadata": {
        "colab": {
          "base_uri": "https://localhost:8080/"
        },
        "id": "m_7ZFDpy7pVH",
        "outputId": "b7149115-3a15-4c4d-aef3-39dbfe7bf484"
      },
      "outputs": [
        {
          "name": "stdout",
          "output_type": "stream",
          "text": [
            "The value of i is : 1\n",
            "The value of i is : 2\n",
            "The value of i is : 3\n",
            "The value of i is : 4\n",
            "The value of i is : 6\n",
            "The value of i is : 7\n",
            "The value of i is : 8\n",
            "The value of i is : 9\n",
            "The value of i is : 10\n"
          ]
        }
      ],
      "source": [
        "#Example Of Continue Statement:\n",
        "\n",
        "i=0;\n",
        "while(True):\n",
        "    i=i+1\n",
        "    if(i==5):\n",
        "        continue\n",
        "    if(i>10):\n",
        "        break\n",
        "    print(f\"The value of i is : {i}\")\n",
        "\n"
      ]
    },
    {
      "cell_type": "code",
      "execution_count": null,
      "metadata": {
        "colab": {
          "base_uri": "https://localhost:8080/"
        },
        "id": "BIJ7bLPX7w1F",
        "outputId": "f7ba8b3c-3fc0-4065-dd69-365d52502a11"
      },
      "outputs": [
        {
          "name": "stdout",
          "output_type": "stream",
          "text": [
            "Enter a Number\n",
            "6\n",
            "Try again!\n",
            "\n",
            "Enter a Number\n",
            "101\n",
            "Congrats you have entered a number greater than 100\n",
            "\n"
          ]
        }
      ],
      "source": [
        "#Break & Continue Statements \n",
        "\n",
        "while(True):\n",
        "    inp = int(input(\"Enter a Number\\n\"))\n",
        "    if inp>100:\n",
        "        print(\"Congrats you have entered a number greater than 100\\n\")\n",
        "        break\n",
        "    else:\n",
        "        print(\"Try again!\\n\")\n",
        "        continue\n"
      ]
    },
    {
      "cell_type": "code",
      "execution_count": null,
      "metadata": {
        "colab": {
          "base_uri": "https://localhost:8080/"
        },
        "id": "LYrGblwm8GcN",
        "outputId": "4a699ee4-40b1-4728-c874-00ae97b823f3"
      },
      "outputs": [
        {
          "name": "stdout",
          "output_type": "stream",
          "text": [
            "Enter 1st Number\n",
            "45\n",
            "Enter 2nd Number\n",
            "3\n",
            "so What you Want?+,-,/,%,*\n",
            "+\n",
            "48\n"
          ]
        }
      ],
      "source": [
        "# Exercise 2 - Faulty Calculator\n",
        "# 45 * 3 = 555, 56+9 = 77, 56/6 = 4\n",
        "# Design a calculator which will correctly solve all the problems except\n",
        "# the following ones:\n",
        "# 45 * 3 = 555, 56+9 = 77, 56/6 = 4\n",
        "# Your program should take operator  and the two numbers as input from the user\n",
        "# and then return the result\n",
        "#\n",
        "\n",
        "print(\"Enter 1st Number\")\n",
        "num1 = int(input())\n",
        "print('Enter 2nd Number')\n",
        "num2 = int(input())\n",
        "print('so What you Want?'+'+,-,/,%,*')\n",
        "num3 =input()\n",
        "\n",
        "if num1 ==45 and num2==3 and num3=='*':\n",
        "    print(\"555\")\n",
        "elif num1 == 56 and num2 == 9 and num3 == '+':\n",
        "        print(\"77\")\n",
        "elif num1 == 56 and num2 == 6 and num3 == '/':\n",
        "        print(\"4\")\n",
        "elif num3=='*' :\n",
        "    num4=num1*num2\n",
        "    print(num4)\n",
        "elif num3 == '+':\n",
        "    plus=num2+num1\n",
        "    print(plus)\n",
        "elif num3 == '/':\n",
        "    Dev=num2/num1\n",
        "    print(Dev)\n",
        "elif num3 == '-':\n",
        "    Dev=num2-num1\n",
        "    print(Dev)\n",
        "elif num3 == '%':\n",
        "    percent=num2%num1\n",
        "    print(percent)\n",
        "else:\n",
        "    print(\"Error! Please check your input\")\n"
      ]
    },
    {
      "cell_type": "code",
      "execution_count": null,
      "metadata": {
        "colab": {
          "base_uri": "https://localhost:8080/"
        },
        "id": "NWMPCGh48LFY",
        "outputId": "0b6760d6-2f02-4cf8-f209-54571acba646"
      },
      "outputs": [
        {
          "name": "stdout",
          "output_type": "stream",
          "text": [
            "0\n",
            "3\n"
          ]
        }
      ],
      "source": [
        "# Operators In Pythons\n",
        "# Arithmetic Operators\n",
        "# Assignment Operators\n",
        "# Comparison Operators\n",
        "# Logical Operators\n",
        "# Identity Operators\n",
        "# Membership Operators\n",
        "# Bitwise Operators\n",
        "\n",
        "# Arithmetic Operators\n",
        "# print(\"5 + 6 is \", 5+6)\n",
        "# print(\"5 - 6 is \", 5-6)\n",
        "# print(\"5 * 6 is \", 5*6)\n",
        "# print(\"5 / 6 is \", 5/6)\n",
        "# print(\"5 ** 3 is \", 5**3)\n",
        "# print(\"5 % 5 is \", 5%5)\n",
        "# print(\"15 // 6 is \", 15//6)\n",
        "\n",
        "# Assignment Operators\n",
        "# print(\"Assignment Operators\")\n",
        "# x = 5\n",
        "# print(x)\n",
        "# x %=7 # x = x%7\n",
        "# print(x)\n",
        "\n",
        "# Comparison Operators\n",
        "i = 5\n",
        "\n",
        "\n",
        "# Logical Operators\n",
        "a = True\n",
        "b = False\n",
        "\n",
        "# Identity Operators\n",
        "# print(5 is not 5)\n",
        "\n",
        "# Membership Operators\n",
        "list = [3, 3,2, 2,39, 33, 35,32]\n",
        "# print(324 not in list)\n",
        "\n",
        "# Bitwise Operators\n",
        "# 0 - 00\n",
        "# 1 - 01\n",
        "# 2 - 10\n",
        "# 3 - 11\n",
        "\n",
        "print(0 & 2)\n",
        "print(0 | 3)\n",
        "\n"
      ]
    },
    {
      "cell_type": "code",
      "execution_count": null,
      "metadata": {
        "colab": {
          "base_uri": "https://localhost:8080/",
          "height": 130
        },
        "id": "W3Az7vYv8LIJ",
        "outputId": "0a681f49-e131-44e2-d9c0-91609de40bd8"
      },
      "outputs": [
        {
          "ename": "SyntaxError",
          "evalue": "ignored",
          "output_type": "error",
          "traceback": [
            "\u001b[0;36m  File \u001b[0;32m\"<ipython-input-43-bb740274116f>\"\u001b[0;36m, line \u001b[0;32m3\u001b[0m\n\u001b[0;31m    If-expression if(Condition) else else-expression\u001b[0m\n\u001b[0m                                        ^\u001b[0m\n\u001b[0;31mSyntaxError\u001b[0m\u001b[0;31m:\u001b[0m invalid syntax\n"
          ]
        }
      ],
      "source": [
        "#If we write the statement:\n",
        "\n",
        "If-expression if(Condition) else else-expression\n",
        "\n",
        "#It will be same as:\n",
        "\n",
        "if condition:\n",
        "   if-expression\n",
        "else:\n",
        "   else-expression"
      ]
    },
    {
      "cell_type": "code",
      "execution_count": null,
      "metadata": {
        "colab": {
          "base_uri": "https://localhost:8080/",
          "height": 130
        },
        "id": "_ZVB7KbK8ujj",
        "outputId": "b228a2ae-8071-452b-b81e-9b4d3127fe84"
      },
      "outputs": [
        {
          "ename": "SyntaxError",
          "evalue": "ignored",
          "output_type": "error",
          "traceback": [
            "\u001b[0;36m  File \u001b[0;32m\"<ipython-input-44-9b78a07e49fc>\"\u001b[0;36m, line \u001b[0;32m7\u001b[0m\n\u001b[0;31m    print(\"B A se bada hai bhai\") if a\u001b[0m\n\u001b[0m                                      ^\u001b[0m\n\u001b[0;31mSyntaxError\u001b[0m\u001b[0;31m:\u001b[0m invalid syntax\n"
          ]
        }
      ],
      "source": [
        "#Short Hand If Else Notation \n",
        "\n",
        "a = int(input(\"enter a\\n\"))\n",
        "b = int(input(\"enter b\\n\"))\n",
        "\n",
        "# if a>b: print(\"A B se bada hai bhai\")\n",
        "print(\"B A se bada hai bhai\") if a"
      ]
    },
    {
      "cell_type": "code",
      "execution_count": null,
      "metadata": {
        "colab": {
          "base_uri": "https://localhost:8080/"
        },
        "id": "H5yGimsj8fbW",
        "outputId": "3b45e9b0-a2a5-4e87-ddf6-937876131910"
      },
      "outputs": [
        {
          "name": "stdout",
          "output_type": "stream",
          "text": [
            "This is a function which will calculate average of two numbers\n",
            "    this function doesnt work for three numbers\n"
          ]
        }
      ],
      "source": [
        "#Functions And Docstrings\n",
        "\n",
        "# a = 9\n",
        "# b = 8\n",
        "# c = sum((a, b)) # built in function\n",
        "\n",
        "def function1(a, b):\n",
        "    print(\"Hello you are in function 1\", a+b)\n",
        "\n",
        "def function2(a, b):\n",
        "    \"\"\"This is a function which will calculate average of two numbers\n",
        "    this function doesnt work for three numbers\"\"\"\n",
        "    average = (a+b)/2\n",
        "    # print(average)\n",
        "    return average\n",
        "\n",
        "# v = function2(5, 7)\n",
        "# print(v)\n",
        "print(function2.__doc__)\n"
      ]
    },
    {
      "cell_type": "code",
      "execution_count": null,
      "metadata": {
        "colab": {
          "base_uri": "https://localhost:8080/"
        },
        "id": "tZC3-lsH9Qyl",
        "outputId": "723dfc32-2de4-4bf6-f492-1eefa1520680"
      },
      "outputs": [
        {
          "name": "stdout",
          "output_type": "stream",
          "text": [
            "Enter num 1\n",
            "67\n",
            "Enter num 2\n",
            "7\n",
            "The sum of these two numbers is 74\n",
            "This line is very important\n"
          ]
        }
      ],
      "source": [
        "#Try Except Exception Handling \n",
        "\n",
        "print(\"Enter num 1\")\n",
        "num1 = input()\n",
        "print(\"Enter num 2\")\n",
        "num2 = input()\n",
        "try:\n",
        "    print(\"The sum of these two numbers is\",\n",
        "          int(num1)+int(num2))\n",
        "except Exception as e:\n",
        "    print(e)\n",
        "\n",
        "\n",
        "\n",
        "print(\"This line is very important\")\n",
        "\n"
      ]
    },
    {
      "cell_type": "code",
      "execution_count": null,
      "metadata": {
        "colab": {
          "base_uri": "https://localhost:8080/",
          "height": 235
        },
        "id": "uYTSnRJm9nvc",
        "outputId": "3ceebfa4-efa5-4b91-89a6-fa4c2a47ba22"
      },
      "outputs": [
        {
          "ename": "FileNotFoundError",
          "evalue": "ignored",
          "output_type": "error",
          "traceback": [
            "\u001b[0;31m---------------------------------------------------------------------------\u001b[0m",
            "\u001b[0;31mFileNotFoundError\u001b[0m                         Traceback (most recent call last)",
            "\u001b[0;32m<ipython-input-47-0dd379f5c485>\u001b[0m in \u001b[0;36m<module>\u001b[0;34m()\u001b[0m\n\u001b[1;32m      1\u001b[0m \u001b[0;31m#Open(), Read() & Readline() For Reading File\u001b[0m\u001b[0;34m\u001b[0m\u001b[0;34m\u001b[0m\u001b[0;34m\u001b[0m\u001b[0m\n\u001b[1;32m      2\u001b[0m \u001b[0;34m\u001b[0m\u001b[0m\n\u001b[0;32m----> 3\u001b[0;31m \u001b[0mf\u001b[0m \u001b[0;34m=\u001b[0m \u001b[0mopen\u001b[0m\u001b[0;34m(\u001b[0m\u001b[0;34m\"harry.txt\"\u001b[0m\u001b[0;34m,\u001b[0m \u001b[0;34m\"rt\"\u001b[0m\u001b[0;34m)\u001b[0m\u001b[0;34m\u001b[0m\u001b[0;34m\u001b[0m\u001b[0m\n\u001b[0m\u001b[1;32m      4\u001b[0m \u001b[0mprint\u001b[0m\u001b[0;34m(\u001b[0m\u001b[0mf\u001b[0m\u001b[0;34m.\u001b[0m\u001b[0mreadlines\u001b[0m\u001b[0;34m(\u001b[0m\u001b[0;34m)\u001b[0m\u001b[0;34m)\u001b[0m\u001b[0;34m\u001b[0m\u001b[0;34m\u001b[0m\u001b[0m\n\u001b[1;32m      5\u001b[0m \u001b[0;31m# print(f.readline())\u001b[0m\u001b[0;34m\u001b[0m\u001b[0;34m\u001b[0m\u001b[0;34m\u001b[0m\u001b[0m\n",
            "\u001b[0;31mFileNotFoundError\u001b[0m: [Errno 2] No such file or directory: 'harry.txt'"
          ]
        }
      ],
      "source": [
        "#Open(), Read() & Readline() For Reading File\n",
        "\n",
        "f = open(\"harry.txt\", \"rt\")\n",
        "print(f.readlines())\n",
        "# print(f.readline())\n",
        "# print(f.readline())\n",
        "# print(f.readline())\n",
        "# content = f.read()\n",
        "#\n",
        "# for line in f:\n",
        "#     print(line, end=\"\")\n",
        "# print(content)\n",
        "# content = f.read(34455)\n",
        "# print(\"1\", content)\n",
        "#\n",
        "# content = f.read(34455)\n",
        "# print(\"2\", content)\n",
        "f.close()"
      ]
    },
    {
      "cell_type": "code",
      "execution_count": null,
      "metadata": {
        "colab": {
          "background_save": true,
          "base_uri": "https://localhost:8080/"
        },
        "id": "eW4tcKSQ_Er5",
        "outputId": "2bba99b7-03f5-436f-bd20-c3706098ac93"
      },
      "outputs": [
        {
          "name": "stdout",
          "output_type": "stream",
          "text": [
            "Number of guesses is limited to only 9 times: \n",
            "you enter less number please input greater number.\n",
            "\n",
            "8 no. of guesses left\n",
            "you enter less number please input greater number.\n",
            "\n",
            "7 no. of guesses left\n",
            "you enter greater number please input smaller number.\n",
            " \n",
            "6 no. of guesses left\n"
          ]
        }
      ],
      "source": [
        "#Number Guessing Game,\n",
        "''' > no of guesses 9\n",
        " > print no of guesses left\n",
        " > No of guesses he took to finish\n",
        " > game over'''\n",
        "\n",
        "n=18\n",
        "number_of_guesses=1\n",
        "print(\"Number of guesses is limited to only 9 times: \")\n",
        "while (number_of_guesses<=9):\n",
        "    guess_number = int(input(\"Guess the number :\\n\"))\n",
        "    if guess_number<18:\n",
        "        print(\"you enter less number please input greater number.\\n\")\n",
        "    elif guess_number>18:\n",
        "        print(\"you enter greater number please input smaller number.\\n \")\n",
        "    else:\n",
        "        print(\"you won\\n\")\n",
        "        print(number_of_guesses,\"no.of guesses he took to finish.\")\n",
        "        break\n",
        "    print(9-number_of_guesses,\"no. of guesses left\")\n",
        "    number_of_guesses = number_of_guesses + 1\n",
        "\n",
        "if(number_of_guesses>9):\n",
        "    print(\"Game Over\")\n",
        "  \n"
      ]
    },
    {
      "cell_type": "code",
      "execution_count": null,
      "metadata": {
        "id": "xmRoEjJx_gpc"
      },
      "outputs": [],
      "source": [
        "'''Writing And Appending To A File\n",
        "   “w” stands for write. \n",
        "   “a” symbolizes append mode here\n",
        "   r+ mode is more of a combination of reading and append than read and write.''' \n",
        "\n",
        "\n",
        "# f = open(\"harry.txt\", \"w\")\n",
        "# a = f.write(\"Harry bhai bahut achhe hain\\n\")\n",
        "# print(a)\n",
        "# f.close()\n",
        "\n",
        "# f = open(\"harry2.txt\", \"a\")\n",
        "# a = f.write(\"Harry bhai bahut achhe hain\\n\")\n",
        "# print(a)\n",
        "# f.close()\n",
        "\n",
        "\n",
        "# Handle read and write both\n",
        "f = open(\"harry2.txt\", \"r+\")\n",
        "print(f.read())\n",
        "f.write(\"thank you\")\n",
        "  \n"
      ]
    },
    {
      "cell_type": "code",
      "execution_count": null,
      "metadata": {
        "id": "7fuVM6FoAhNA"
      },
      "outputs": [],
      "source": [
        "#Python Exercise 4: Astrologer's Stars\n",
        "\n",
        "# Exercise 4\n",
        "# Pattern Printing\n",
        "# Input = Integer n\n",
        "# Boolean = True or False\n",
        "#\n",
        "# True n=5\n",
        "# *\n",
        "# **\n",
        "# ***\n",
        "# ****\n",
        "#\n",
        "# False n=5\n",
        "# ****\n",
        "# ***\n",
        "# **\n",
        "# *\n",
        "  \n"
      ]
    },
    {
      "cell_type": "code",
      "execution_count": null,
      "metadata": {
        "id": "6vZVNPcSPaBH"
      },
      "outputs": [],
      "source": [
        "#tell() function.\n",
        "\n",
        " f = open(\"myfile.txt\", \"r\")\n",
        "print(f.readline() )\n",
        "print(f.tell())"
      ]
    },
    {
      "cell_type": "code",
      "execution_count": null,
      "metadata": {
        "id": "McNT7Yg5QIxa"
      },
      "outputs": [],
      "source": [
        "#seek() function\n",
        "\n",
        "f = open(\"myfile.txt\", \"r\")\n",
        "f.seek(5)\n",
        "print( f.readline() )"
      ]
    },
    {
      "cell_type": "code",
      "execution_count": null,
      "metadata": {
        "id": "SB57Lbu7QRnz"
      },
      "outputs": [],
      "source": [
        "#seek and tell() function\n",
        "\n",
        "f = open(\"harry.txt\")\n",
        "f.seek(11)\n",
        "print(f.tell())\n",
        "print(f.readline())\n",
        "# print(f.tell())\n",
        "\n",
        "print(f.readline())\n",
        "# print(f.tell())\n",
        "f.close()\n",
        "  \n",
        "\n"
      ]
    },
    {
      "cell_type": "code",
      "execution_count": null,
      "metadata": {
        "id": "6Xt54tMAQ2jB"
      },
      "outputs": [],
      "source": [
        "#Using With Block To Open Python Files\n",
        "\n",
        "with open(\"harry.txt\") as f:\n",
        "    a = f.readlines()\n",
        "    print(a)\n",
        "\n",
        "# f = open(\"harry.txt\", \"rt\")\n",
        "#Question of the day - Yes or No and why?\n",
        "# f.close()\n",
        "  \n"
      ]
    },
    {
      "cell_type": "code",
      "execution_count": null,
      "metadata": {
        "id": "59McVqmTRHMb"
      },
      "outputs": [],
      "source": [
        "#Local Variable:-\n",
        "\n",
        "def sum():\n",
        "\n",
        "      a=10 #local variable cannot be accessed outside the function\n",
        "      b=20\n",
        "      sum=a+b\n",
        "      print( sum)\n",
        "\n",
        "print(a) #this gives an error"
      ]
    },
    {
      "cell_type": "code",
      "execution_count": null,
      "metadata": {
        "id": "GOli0G_FSHJL"
      },
      "outputs": [],
      "source": [
        "#Global Variable:-\n",
        "\n",
        "a=1  #global variable\n",
        "\n",
        "def print_Number():\n",
        "\n",
        "            a=a+1;\n",
        "            print(a)\n",
        "\n",
        " print_number()"
      ]
    },
    {
      "cell_type": "code",
      "execution_count": null,
      "metadata": {
        "id": "DtTiT4XpSUQv"
      },
      "outputs": [],
      "source": [
        "#Local vs. Global Variables\n",
        "\n",
        "# l = 10 # Global\n",
        "#\n",
        "# def function1(n):\n",
        "#     # l = 5 #Local\n",
        "#     m = 8 #Local\n",
        "#     global l\n",
        "#     l = l + 45\n",
        "#     print(l, m)\n",
        "#     print(n, \"I have printed\")\n",
        "#\n",
        "# function1(\"This is me\")\n",
        "# # print(m)\n",
        "\n",
        "x = 89\n",
        "def harry():\n",
        "    x = 20\n",
        "    def rohan():\n",
        "        global x\n",
        "        x = 88\n",
        "    # print(\"before calling rohan()\", x)\n",
        "    rohan()\n",
        "    print(\"after calling rohan()\", x)\n",
        "\n",
        "harry()\n",
        "print(x)\n",
        "\n",
        "\n",
        "\n",
        "\n",
        "\n",
        "  \n"
      ]
    },
    {
      "cell_type": "code",
      "execution_count": null,
      "metadata": {
        "id": "N-CyuZ8WSk7a"
      },
      "outputs": [],
      "source": [
        "#Recursions: Recursive Vs Iterative Approach\n",
        "\n",
        "\n",
        "# n! = n * n-1 * n-2 * n-3.......1\n",
        "# n! = n * (n-1)!\n",
        "def factorial_iterative(n):\n",
        "    \"\"\"\n",
        "        :param n: Integer\n",
        "        :return: n * n-1 * n-2 * n-3.......1\n",
        "    \"\"\"\n",
        "    fac = 1\n",
        "    for i in range(n):\n",
        "        fac = fac * (i+1)\n",
        "    return fac\n",
        "\n",
        "def factorial_recursive(n):\n",
        "    \"\"\"\n",
        "        :param n: Integer\n",
        "        :return: n * n-1 * n-2 * n-3.......1\n",
        "    \"\"\"\n",
        "    if n ==1:\n",
        "        return 1\n",
        "    else:\n",
        "        return n * factorial_recursive(n-1)\n",
        "    # 5 * factorial_recursive(4)\n",
        "    # 5 * 4 * factorial_recursive(3)\n",
        "    # 5 * 4 * 3 * factorial_recursive(2)\n",
        "    # 5 * 4 * 3 * 2 * factorial_recursive(1)\n",
        "    # 5 * 4 * 3 * 2 * 1 = 120\n",
        "\n",
        "# 0 1 1 2 3 5 8 13\n",
        "def fibonacci(n):\n",
        "    if n==1:\n",
        "        return 0\n",
        "    elif n==2:\n",
        "        return 1\n",
        "    else:\n",
        "        return fibonacci(n-1)+ fibonacci(n-2)\n",
        "\n",
        "\n",
        "number = int(input(\"Enter then number\"))\n",
        "# print(\"Factorial Using Iterative Method\", factorial_iterative(number))\n",
        "# print(\"Factorial Using Recursive Method\", factorial_recursive(number))\n",
        "print(fibonacci(number))\n",
        "  \n"
      ]
    },
    {
      "cell_type": "code",
      "execution_count": null,
      "metadata": {
        "id": "SVGH7tR6Sy8Q"
      },
      "outputs": [],
      "source": [
        "Exercise 4: Solution And First Solver\n",
        "\n",
        "# Exercise 4\n",
        "# Pattern Printing\n",
        "# Input = Integer n\n",
        "# Boolean = True or False\n",
        "#\n",
        "# True n=5\n",
        "# *\n",
        "# **\n",
        "# ***\n",
        "# ****\n",
        "#\n",
        "# False n=5\n",
        "# ****\n",
        "# ***\n",
        "# **\n",
        "# *\n",
        "# print(\"Pattern printing\")\n",
        "# num = int(input(\"Enter num how many rows you want : \"))\n",
        "# print(\"Enter 1 or 0\")\n",
        "# bool_val = input(\"1 for True value or 0 for False : \")\n",
        "# if bool_val==\"1\":\n",
        "#     for i in range(0,num+1):\n",
        "#         print(\"*\"*i)\n",
        "#\n",
        "# if bool_val==\"0\":\n",
        "#     for i in range(num,0,-1):\n",
        "#         print(\"*\"* i)\n",
        "\n",
        "\n",
        "a = int(input(\"please add number of line you want to print\"))\n",
        "b = bool(int(input(\"please add 0 for False\")))\n",
        "\n",
        "\n",
        "def star(a, b):\n",
        "    if b == True:\n",
        "        c = 1\n",
        "        while c <= a:\n",
        "            print(c * \"*\")\n",
        "            c = c + 1\n",
        "    else:\n",
        "        while a > 0:\n",
        "            print(a * \"*\")\n",
        "            a = a - 1\n",
        "\n",
        "\n",
        "star(a, b)\n",
        "  \n"
      ]
    },
    {
      "cell_type": "code",
      "execution_count": null,
      "metadata": {
        "id": "_4n9usA0TrV8"
      },
      "outputs": [],
      "source": [
        "#anonymous or lambda functions work:\n",
        "\n",
        "result = lambda n1, n2, n3: n1 + n2 + n3;\n",
        "print (\"Sum of three values : \", result( 10, 20, 25 ))\n",
        "\n",
        " #Python List sort():\n",
        " list.sort(key=myFunc ,reverse=True|False)\n",
        "\n",
        " #Sort() does not return any value, but it changes from the original list."
      ]
    },
    {
      "cell_type": "code",
      "execution_count": null,
      "metadata": {
        "id": "mLG3oEODjU7u"
      },
      "outputs": [],
      "source": [
        "# Lambda functions or anonymous functions\n",
        "# def add(a, b):\n",
        "#     return a+b\n",
        "#\n",
        "# # minus = lambda x, y: x-y\n",
        "#\n",
        "# def minus(x, y):\n",
        "#     return x-y\n",
        "#\n",
        "# print(minus(9, 4))\n",
        "\n",
        "\n",
        "a =[[1, 14], [5, 6], [8,23]]\n",
        "a.sort(key=lambda x:x[1])\n",
        "print(a)\n",
        "  \n"
      ]
    },
    {
      "cell_type": "code",
      "execution_count": null,
      "metadata": {
        "colab": {
          "background_save": true,
          "base_uri": "https://localhost:8080/"
        },
        "id": "Vf7B4ohQjlrn",
        "outputId": "f6969374-e100-4946-c53a-d07c8933fd86"
      },
      "outputs": [
        {
          "name": "stdout",
          "output_type": "stream",
          "text": [
            "health management system: \n"
          ]
        }
      ],
      "source": [
        "#Exercise 5: Solution And First Solver\n",
        "\n",
        "# Health Management System\n",
        "# 3 clients - Harry, Rohan and Hammad\n",
        "\n",
        "def getdate():\n",
        "    import datetime\n",
        "    return datetime.datetime.now()\n",
        "\n",
        "# Total 6 files\n",
        "# write a function that when executed takes as input client name\n",
        "# One more function to retrieve exercise or food for any client\n",
        "\n",
        "\n",
        "#bhai ye rha program\n",
        "import datetime\n",
        "def gettime():\n",
        "    return datetime.datetime.now()\n",
        "def take(k):\n",
        "    if k==1:\n",
        "        c=int(input(\"enter 1 for excersise and 2 for food\"))\n",
        "        if(c==1):\n",
        "            value=input(\"type here\\n\")\n",
        "            with open(\"harry-ex.txt\",\"a\") as op:\n",
        "                op.write(str([str(gettime())])+\": \"+value+\"\\n\")\n",
        "            print(\"successfully written\")\n",
        "        elif(c==2):\n",
        "            value = input(\"type here\\n\")\n",
        "            with open(\"harry-food.txt\", \"a\") as op:\n",
        "                op.write(str([str(gettime())]) + \": \" + value + \"\\n\")\n",
        "            print(\"successfully written\")\n",
        "    elif(k==2):\n",
        "        c = int(input(\"enter 1 for excersise and 2 for food\"))\n",
        "        if (c == 1):\n",
        "            value = input(\"type here\\n\")\n",
        "            with open(\"rohan-ex.txt\", \"a\") as op:\n",
        "                op.write(str([str(gettime())]) + \": \" + value + \"\\n\")\n",
        "            print(\"successfully written\")\n",
        "        elif (c == 2):\n",
        "            value = input(\"type here\\n\")\n",
        "            with open(\"rohan-food.txt\", \"a\") as op:\n",
        "                op.write(str([str(gettime())]) + \": \" + value + \"\\n\")\n",
        "            print(\"successfully written\")\n",
        "    elif(k==3):\n",
        "        c = int(input(\"enter 1 for excersise and 2 for food\"))\n",
        "        if (c == 1):\n",
        "            value = input(\"type here\\n\")\n",
        "            with open(\"hammad-ex.txt\", \"a\") as op:\n",
        "                op.write(str([str(gettime())]) + \": \" + value + \"\\n\")\n",
        "            print(\"successfully written\")\n",
        "        elif (c == 2):\n",
        "            value = input(\"type here\\n\")\n",
        "            with open(\"hammad-food.txt\", \"a\") as op:\n",
        "                op.write(str([str(gettime())]) + \": \" + value + \"\\n\")\n",
        "            print(\"successfully written\")\n",
        "    else:\n",
        "        print(\"plz enter valid input (1(harry),2(rohan),3(hammad)\")\n",
        "def retrieve(k):\n",
        "    if k==1:\n",
        "        c=int(input(\"enter 1 for excersise and 2 for food\"))\n",
        "        if(c==1):\n",
        "            with open(\"harry-ex.txt\") as op:\n",
        "                for i in op:\n",
        "                    print(i,end=\"\")\n",
        "        elif(c==2):\n",
        "            with open(\"harry-food.txt\") as op:\n",
        "                for i in op:\n",
        "                    print(i, end=\"\")\n",
        "    elif(k==2):\n",
        "        c = int(input(\"enter 1 for excersise and 2 for food\"))\n",
        "        if (c == 1):\n",
        "            with open(\"rohan-ex.txt\") as op:\n",
        "                for i in op:\n",
        "                    print(i, end=\"\")\n",
        "        elif (c == 2):\n",
        "            with open(\"rohan-food.txt\") as op:\n",
        "                for i in op:\n",
        "                    print(i, end=\"\")\n",
        "    elif(k==3):\n",
        "        c = int(input(\"enter 1 for excersise and 2 for food\"))\n",
        "        if (c == 1):\n",
        "            with open(\"hammad-ex.txt\") as op:\n",
        "                for i in op:\n",
        "                    print(i, end=\"\")\n",
        "        elif (c == 2):\n",
        "            with open(\"hammad-food.txt\") as op:\n",
        "                for i in op:\n",
        "                    print(i, end=\"\")\n",
        "    else:\n",
        "        print(\"plz enter valid input (harry,rohan,hammad)\")\n",
        "print(\"health management system: \")\n",
        "a=int(input(\"Press 1 for log the value and 2 for retrieve \"))\n",
        "\n",
        "if a==1:\n",
        "    b = int(input(\"Press 1 for harry 2 for rohan 3 for hammad \"))\n",
        "    take(b)\n",
        "else:\n",
        "    b = int(input(\"Press 1 for harry 2 for rohan 3 for hammad \"))\n",
        "    retrieve(b)\n",
        "  \n"
      ]
    },
    {
      "cell_type": "code",
      "execution_count": null,
      "metadata": {
        "id": "n8kLLpnpjvA9"
      },
      "outputs": [],
      "source": [
        "#Using Python External & Built In Modules\n",
        "\n",
        "import random\n",
        "random_number = random.randint(0, 1)\n",
        "# print(random_number)\n",
        "rand = random.random() *100\n",
        "# print(rand)\n",
        "lst = [\"Star Plus\", \"DD1\", \"Aaj Tak\", \"CodeWithHarry\"]\n",
        "choice = random.choice(lst)\n",
        "print(choice)\n",
        "  \n"
      ]
    },
    {
      "cell_type": "code",
      "execution_count": null,
      "metadata": {
        "id": "BJStzCCaktm6"
      },
      "outputs": [],
      "source": [
        "#String Formatting (% Operator)\n",
        "\n",
        "name=\"Jack”\n",
        "\n",
        " n=\"%s My name is %s” %name\n",
        "\n",
        "print(n)\n",
        "\n",
        " Output: \"My name is Jack.\""
      ]
    },
    {
      "cell_type": "code",
      "execution_count": null,
      "metadata": {
        "id": "yLnaOSjGkzfl"
      },
      "outputs": [],
      "source": [
        "#Using Tuple ()\n",
        "\n",
        "name=”Jack”\n",
        "class=5\n",
        "s=”%s is in class %d”%(name,class)\n",
        "print(s)"
      ]
    },
    {
      "cell_type": "code",
      "execution_count": null,
      "metadata": {
        "id": "mtMXbBLPk4Ue"
      },
      "outputs": [],
      "source": [
        "#String Formatting (str.format)\n",
        "\n",
        "str = \"This article is written in {} \"\n",
        "\n",
        "print (str.format(\"Python\"))"
      ]
    },
    {
      "cell_type": "code",
      "execution_count": null,
      "metadata": {
        "id": "dnv7rNjRk_vM"
      },
      "outputs": [],
      "source": [
        "#Using f-Strings ( f ):\n",
        "\n",
        "## declaring variables\n",
        "\n",
        " str1=\"Python”\n",
        "\n",
        " str2=\"Programming”\n",
        "\n",
        "print(f\"Welcome to our {str1}{str2} tutorial”)"
      ]
    },
    {
      "cell_type": "code",
      "execution_count": null,
      "metadata": {
        "id": "5DCL1ohmlDiF"
      },
      "outputs": [],
      "source": [
        "#import time\n",
        "import time"
      ]
    },
    {
      "cell_type": "code",
      "execution_count": null,
      "metadata": {
        "id": "2jzG0uC1lQRM"
      },
      "outputs": [],
      "source": [
        "\n",
        "\n",
        "# F strings\n",
        "import math\n",
        "\n",
        "me = \"Harry\"\n",
        "a1 =3\n",
        "# a = \"this is %s %s\"%(me, a1)\n",
        "# a = \"This is {1} {0}\"\n",
        "# b = a.format(me, a1)\n",
        "# print(b)\n",
        "a = f\"this is {me} {a1} {math.cos(65)}\"\n",
        "# time\n",
        "print(a)\n",
        "  \n"
      ]
    },
    {
      "cell_type": "code",
      "execution_count": null,
      "metadata": {
        "id": "sqv4pjRjlbcD"
      },
      "outputs": [],
      "source": [
        "# Snake water gun\n",
        "# Create a snake water gun game in Python! Search Snake water gun game in google if you need help on rules and how to play the game!\n"
      ]
    },
    {
      "cell_type": "code",
      "execution_count": null,
      "metadata": {
        "id": "cuSDuLRRlulP"
      },
      "outputs": [],
      "source": [
        "#*args and **kwargs\n",
        "\n",
        "# def function_name_print(a, b, c, d, e):\n",
        "#     print(a, b, c, d, e)\n",
        "\n",
        "def funargs(normal, *argsrohan, **kwargsbala):\n",
        "    print(normal)\n",
        "    for item in argsrohan:\n",
        "        print(item)\n",
        "    print(\"\\nNow I would Like to introduce some of our heroes\")\n",
        "    for key, value in kwargsbala.items():\n",
        "        print(f\"{key} is a {value}\")\n",
        "\n",
        "\n",
        "# function_name_print(\"Harry\", \"Rohan\", \"Skillf\", \"Hammad\", \"Shivam\")\n",
        "\n",
        "har = [\"Harry\", \"Rohan\", \"Skillf\", \"Hammad\",\n",
        "       \"Shivam\", \"The programmer\"]\n",
        "normal = \"I am a normal Argument and the students are:\"\n",
        "kw = {\"Rohan\":\"Monitor\", \"Harry\":\"Fitness Instructor\",\n",
        "      \"The Programmer\": \"Coordinator\", \"Shivam\":\"Cook\"}\n",
        "funargs(normal, *har, **kw)\n",
        "  \n"
      ]
    },
    {
      "cell_type": "code",
      "execution_count": null,
      "metadata": {
        "id": "yEhKdMwPmMp0"
      },
      "outputs": [],
      "source": [
        "#time module\n",
        "\n",
        "#Time.sleep():\n",
        "\n",
        "time.sleep(5)\n",
        "\n",
        "#time localtime():\n",
        "time.localtime([ sec ])\n",
        "#example\n",
        "import time\n",
        "\n",
        "print \"time.localtime() returns: %s\",%time.localtime()"
      ]
    },
    {
      "cell_type": "code",
      "execution_count": null,
      "metadata": {
        "id": "Zwi30PhZmotP"
      },
      "outputs": [],
      "source": [
        "#Time module\n",
        "\n",
        "import time\n",
        "initial = time.time()\n",
        "\n",
        "k = 0\n",
        "while(k<45):\n",
        "    print(\"This is harry bhai\")\n",
        "    time.sleep(2)\n",
        "    k+=1\n",
        "print(\"While loop ran in\", time.time() - initial, \"Seconds\")\n",
        "\n",
        "initial2 =time.time()\n",
        "for i in range(45):\n",
        "    print(\"This is harry bhai\")\n",
        "print(\"For loop ran in\", time.time() - initial2, \"Seconds\")\n",
        "\n",
        "\n",
        "# localtime = time.asctime(time.localtime(time.time()))\n",
        "# print(localtime)\n",
        "  \n"
      ]
    },
    {
      "cell_type": "code",
      "execution_count": null,
      "metadata": {
        "id": "NvJY284jmv5I"
      },
      "outputs": [],
      "source": [
        "#Virtual Environment & Requirements.txt\n",
        "numpy==1.15.4\n",
        "scikit-learn==0.20.1\n",
        "scipy==1.1.0\n",
        "sklearn==0.0\n",
        "\n",
        "  \n"
      ]
    },
    {
      "cell_type": "code",
      "execution_count": null,
      "metadata": {
        "id": "BRL2Yf6BnQh7"
      },
      "outputs": [],
      "source": [
        "#enumerate \n",
        "\n",
        "list_1=[\"code\",\"with\",\"harry\"]\n",
        "for index,val in enumerate(list_1):\n",
        "    print(index,val)"
      ]
    },
    {
      "cell_type": "code",
      "execution_count": null,
      "metadata": {
        "id": "jh8OZol5naeA"
      },
      "outputs": [],
      "source": [
        "#Using Enumerate() on a list with start Index:.\n",
        "\n",
        "list_2 = [\"Python\", \"Programming\", \"Is\", \"Fun\"]\n",
        "#Counter value starts from 5\n",
        "result = enumerate(list_2, 5)\n",
        "print(list(result))"
      ]
    },
    {
      "cell_type": "code",
      "execution_count": null,
      "metadata": {
        "id": "jnI2oSnwnloK"
      },
      "outputs": [],
      "source": [
        "#Enumerate Function\n",
        "\n",
        "l1 = [\"Bhindi\", \"Aloo\", \"chopsticks\", \"chowmein\"]\n",
        "\n",
        "# i = 1\n",
        "# for item in l1:\n",
        "#     if i%2 is not 0:\n",
        "#         print(f\"Jarvis please buy {item}\")\n",
        "#     i += 1\n",
        "\n",
        "for index, item in enumerate(l1):\n",
        "    if index%2==0:\n",
        "        print(f\"Jarvis please buy {item}\")\n",
        "\n"
      ]
    },
    {
      "cell_type": "code",
      "execution_count": null,
      "metadata": {
        "id": "7C3av506tyL2"
      },
      "outputs": [],
      "source": [
        "#How Import Works In Python?\n",
        "\n",
        "from sklearn.ensemble import RandomForestClassifier\n",
        "print(RandomForestClassifier())\n",
        "\n",
        "\n",
        "import file2\n",
        "print(file2.a)\n",
        "\n",
        "file2.printjoke(\"This is me\")\n",
        "  \n"
      ]
    },
    {
      "cell_type": "code",
      "execution_count": null,
      "metadata": {
        "id": "J1Bj96YhuMlv"
      },
      "outputs": [],
      "source": [
        "#How Import Works In Python?..\n",
        "\n",
        "a =7\n",
        "def printjoke(str):\n",
        "    print(f\"this function is a joke {str}\")\n",
        "  \n"
      ]
    },
    {
      "cell_type": "code",
      "execution_count": null,
      "metadata": {
        "id": "M-zSqlt6ujj-"
      },
      "outputs": [],
      "source": [
        "#tutmain1.py\n",
        "print(\"__name__ in tutmain1.py is set to\"+__name__)"
      ]
    },
    {
      "cell_type": "code",
      "execution_count": null,
      "metadata": {
        "id": "inBIRyYVuk84"
      },
      "outputs": [],
      "source": [
        "#tutmain2.py\n",
        "import tutmain1\n",
        "\n",
        "print(\"__name in tutmain2.py is set to\"+__name__)"
      ]
    },
    {
      "cell_type": "code",
      "execution_count": null,
      "metadata": {
        "id": "a037nUL6urff"
      },
      "outputs": [],
      "source": [
        "if__name__==\"__main__\":\n",
        "    #Logic Statement"
      ]
    },
    {
      "cell_type": "code",
      "execution_count": null,
      "metadata": {
        "id": "gKDjSyzQusli"
      },
      "outputs": [],
      "source": [
        "#If __name__==__main__ usage & necessity\n",
        "\n",
        "\n",
        "def printhar(string):\n",
        "    return f\"Ye string harry ko de de thakur {string}\"\n",
        "\n",
        "def add(num1, num2):\n",
        "    return num1 + num2 + 5\n",
        "    \n",
        "\n",
        "\n",
        "print(\"aand the name is\", __name__)\n",
        "\n",
        "if __name__ == '__main__':\n",
        "    print(printhar(\"Harry1\"))\n",
        "    o = add(4, 6)\n",
        "    print(o)\n",
        "  \n"
      ]
    },
    {
      "cell_type": "code",
      "execution_count": null,
      "metadata": {
        "id": "LhmzL8uKuwIy"
      },
      "outputs": [],
      "source": [
        "#The syntax of the join() method is:\n",
        "#string.join(iterable)\n",
        "\n",
        "#join() with lists\n",
        "numList = ['1', '2', '3', '4']\n",
        "separator = ', '\n",
        "print(separator.join(numList))"
      ]
    },
    {
      "cell_type": "code",
      "execution_count": null,
      "metadata": {
        "id": "mtmqnON_0XOR"
      },
      "outputs": [],
      "source": [
        "#How will the join function work in case of a \"dictionary\"? \n",
        "\n",
        "myDictionary = {\"name\": \"Jack\", \"country\": \"America\"}\n",
        "separator = \"_separator_\"\n",
        "print(separator.join(myDictionary))"
      ]
    },
    {
      "cell_type": "code",
      "execution_count": null,
      "metadata": {
        "id": "ewHp3Axp0ggP"
      },
      "outputs": [],
      "source": [
        "inputlist = [\"Test1\",13,\"Test2\",24,\"Test3\",100,\"Test4\"]\n",
        "sep = '_'\n",
        "out = sep.join(inputlist)\n",
        "print(out)"
      ]
    },
    {
      "cell_type": "code",
      "execution_count": null,
      "metadata": {
        "id": "iLamt9GG0pl-"
      },
      "outputs": [],
      "source": [
        "#Join Function\n",
        "\n",
        "lis = [\"John\", \"cena\", \"Randy\", \"orton\",\n",
        "       \"Sheamus\", \"khali\", \"jinder mahal\"]\n",
        "\n",
        "# for item in lis:\n",
        "#     print(item, \"and\", end=\" \")\n",
        "\n",
        "a = \", \".join(lis)\n",
        "print(a, \"other wwe superstars\")\n"
      ]
    },
    {
      "cell_type": "code",
      "execution_count": null,
      "metadata": {
        "id": "uCUBSCDR03yR"
      },
      "outputs": [],
      "source": [
        "#map():\n",
        "#SYNTAX:-map(function, iterable)\n",
        "\n",
        "#Example:\n",
        "items = [1, 2, 3, 4, 5]\n",
        "a=list(map((lambda x: x **3), items))\n",
        "print(a)\n",
        "#Output: [1, 8, 27, 64, 125]"
      ]
    },
    {
      "cell_type": "code",
      "execution_count": null,
      "metadata": {
        "id": "sgVEX_JI1ncE"
      },
      "outputs": [],
      "source": [
        "#filter():-\n",
        "# syntax:- filter(function, iterable)\n",
        "\n",
        "#Example:\n",
        "a = [1,2,3,4,5,6]\n",
        "b = [2,5,0,7,3]\n",
        "c= list(filter(lambda x: x in a, b))\n",
        "print(c) # prints out [2, 5, 3]\n",
        "\n"
      ]
    },
    {
      "cell_type": "code",
      "execution_count": null,
      "metadata": {
        "id": "au-aKm332ZkP"
      },
      "outputs": [],
      "source": [
        "#reduce():\n",
        "#SYNTAX:reduce(function, iterable)\n",
        "\n",
        "#Example:\n",
        "a = [1,2,3,4,5,6]\n",
        "b = [2,5,0,7,3]\n",
        "c= list(filter(lambda x: x in a, b))\n",
        "print(c) # prints out [2, 5, 3]"
      ]
    },
    {
      "cell_type": "code",
      "execution_count": null,
      "metadata": {
        "id": "Y7vrjplt2rw4"
      },
      "outputs": [],
      "source": [
        "#Map, Filter & Reduce\n",
        "\n",
        "#--------------------------MAP------------------------------\n",
        "# numbers = [\"3\", \"34\", \"64\"]\n",
        "# numbers = list(map(int, numbers))\n",
        "\n",
        "# for i in range(len(numbers)):\n",
        "#     numbers[i] = int(numbers[i])\n",
        "\n",
        "# numbers[2] = numbers[2] + 1\n",
        "# print(numbers[2])\n",
        "\n",
        "# def sq(a):\n",
        "#     return a*a\n",
        "#\n",
        "# num = [2,3,5,6,76,3,3,2]\n",
        "# square = list(map(sq, num))\n",
        "# print(square)\n",
        "# num = [2,3,5,6,76,3,3,2]\n",
        "# square = list(map(lambda x: x*x, num))\n",
        "# print(square)\n",
        "\n",
        "\n",
        "# def square(a):\n",
        "#     return a*a\n",
        "#\n",
        "# def cube(a):\n",
        "#     return a*a*a\n",
        "\n",
        "# func = [square, cube]\n",
        "# num = [2,3,5,6,76,3,3,2]\n",
        "# for i in range(5):\n",
        "#     val = list(map(lambda x:x(i), func))\n",
        "#     print(val)\n",
        "\n",
        "#--------------------------FILTER------------------------------\n",
        "# list_1 = [1,2,3,4,5,6,7,8,9]\n",
        "#\n",
        "# def is_greater_5(num):\n",
        "#     return num>5\n",
        "#\n",
        "# gr_than_5 = list(filter(is_greater_5, list_1))\n",
        "# print(gr_than_5)\n",
        "#--------------------------REDUCE------------------------------\n",
        "from functools import reduce\n",
        "\n",
        "list1 = [1,2,3,4,2]\n",
        "num = reduce(lambda x,y:x*y, list1)\n",
        "# num = 0\n",
        "# for i in list1:\n",
        "#     num = num + i\n",
        "print(num)\n",
        "\n",
        "  \n"
      ]
    },
    {
      "cell_type": "code",
      "execution_count": null,
      "metadata": {
        "id": "ddmFJnYT27ah"
      },
      "outputs": [],
      "source": [
        "#Exercise-6 Solution (Snake Water Gun). In Exercise-6, we have to create a 'Snake Water Gun' game,\n",
        "\n",
        "# Snake water gun\n",
        "\n",
        "import random\n",
        "lst = ['s','w','g']\n",
        "\n",
        "chance = 10\n",
        "no_of_chance = 0\n",
        "computer_point = 0\n",
        "human_point = 0\n",
        "\n",
        "print(\" \\t \\t \\t \\t Snake,Water,Gun Game\\n \\n\")\n",
        "print(\"s for snake \\nw for water \\ng for gun \\n\")\n",
        "\n",
        "# making the game in while\n",
        "while no_of_chance < chance:\n",
        "    _input = input('Snake,Water,Gun:')\n",
        "    _random = random.choice(lst)\n",
        "\n",
        "    if _input == _random:\n",
        "        print(\"Tie Both 0 point to each \\n \")\n",
        "\n",
        "    # if user enter s\n",
        "    elif _input == \"s\" and _random == \"g\":\n",
        "        computer_point = computer_point + 1\n",
        "        print(f\"your guess {_input} and computer guess is {_random} \\n\")\n",
        "        print(\"computer wins 1 point \\n\")\n",
        "        print(f\"computer_point is {computer_point} and your point is {human_point} \\n \")\n",
        "\n",
        "    elif _input == \"s\" and _random == \"w\":\n",
        "        human_point = human_point + 1\n",
        "        print(f\"your guess {_input} and computer guess is {_random} \\n\")\n",
        "        print(\"Human wins 1 point \\n\")\n",
        "        print(f\"computer_point is {computer_point} and your point is {human_point} \\n\")\n",
        "\n",
        "    # if user enter w\n",
        "    elif _input == \"w\" and _random == \"s\":\n",
        "        computer_point = computer_point + 1\n",
        "        print(f\"your guess {_input} and computer guess is {_random} \\n\")\n",
        "        print(\"computer wins 1 point \\n\")\n",
        "        print(f\"computer_point is {computer_point} and your point is {human_point} \\n \")\n",
        "\n",
        "    elif _input == \"w\" and _random == \"g\":\n",
        "        human_point = human_point + 1\n",
        "        print(f\"your guess {_input} and computer guess is {_random} \\n\")\n",
        "        print(\"Human wins 1 point \\n\")\n",
        "        print(f\"computer_point is {computer_point} and your point is {human_point} \\n\")\n",
        "\n",
        "    # if user enter g\n",
        "\n",
        "    elif _input == \"g\" and _random == \"s\":\n",
        "        human_point = human_point + 1\n",
        "        print(f\"your guess {_input} and computer guess is {_random} \\n\")\n",
        "        print(\"Human wins 1 point \\n\")\n",
        "        print(f\"computer_point is {computer_point} and your point is {human_point} \\n\")\n",
        "\n",
        "\n",
        "    elif _input == \"g\" and _random == \"w\":\n",
        "        computer_point = computer_point + 1\n",
        "        print(f\"your guess {_input} and computer guess is {_random} \\n\")\n",
        "        print(\"computer wins 1 point \\n\")\n",
        "        print(f\"computer_point is {computer_point} and your point is {human_point} \\n \")\n",
        "\n",
        "    else:\n",
        "        print(\"you have input wrong \\n\")\n",
        "\n",
        "    no_of_chance = no_of_chance + 1\n",
        "    print(f\"{chance - no_of_chance} is left out of {chance} \\n\")\n",
        "\n",
        "print(\"Game over\")\n",
        "\n",
        "if computer_point==human_point:\n",
        "    print(\"Tie\")\n",
        "\n",
        "elif computer_point > human_point:\n",
        "    print(\"Computer wins and you loose\")\n",
        "\n",
        "else:\n",
        "    print(\"you win and computer loose\")\n",
        "\n",
        "print(f\"your point is {human_point} and computer point is {computer_point}\")\n",
        "\n",
        "#\n",
        "# Snake Water Gun Game in Python\n",
        "# The snake drinks the water, the gun shoots the snake, and gun has no effect on water.\n",
        "#\n",
        "\n",
        "  \n"
      ]
    },
    {
      "cell_type": "code",
      "execution_count": null,
      "metadata": {
        "id": "smdYrLKl3IVF"
      },
      "outputs": [],
      "source": [
        "#Healthy Programmer\n",
        "# 9am - 5pm\n",
        "# Water - water.mp3 (3.5 litres) - Drank - log\n",
        "# Eyes - eyes.mp3 - every 30 min - EyDone - log\n",
        "# Physical activity - physical.mp3 every - 45 min - ExDone - log\n",
        "#\n",
        "# Rules\n",
        "# Pygame module to play audio\n",
        "  \n"
      ]
    },
    {
      "cell_type": "code",
      "execution_count": null,
      "metadata": {
        "id": "Pg3RJi-b3NC4"
      },
      "outputs": [],
      "source": [
        "#Decorators In Python\n",
        "\n",
        "def inner1(func): \n",
        "    def inner2():\n",
        "        print(\"Before function execution\"); \n",
        "        func() \n",
        "        print(\"After function execution\")    \n",
        "    return inner2 \n",
        "\n",
        "@inner1\n",
        "def function_to_be_used(): \n",
        "    print(\"This is inside the function\") \n",
        "\n",
        "function_to_be_used()  "
      ]
    },
    {
      "cell_type": "code",
      "execution_count": null,
      "metadata": {
        "id": "ZlpUNGSJ3uuo"
      },
      "outputs": [],
      "source": [
        "#Decorators In Python\n",
        "\n",
        "# def function1():\n",
        "#     print(\"Subscribe now\")\n",
        "#\n",
        "# func2 = function1\n",
        "# del function1\n",
        "# func2()\n",
        "\n",
        "# def funcret(num):\n",
        "#     if num==0:\n",
        "#         return print\n",
        "#     if num==1:\n",
        "#         return sum\n",
        "#\n",
        "# a = funcret(1)\n",
        "# print(a)\n",
        "\n",
        "# def executor(func):\n",
        "#     func(\"this\")\n",
        "#\n",
        "#\n",
        "# executor(print)\n",
        "\n",
        "def dec1(func1):\n",
        "    def nowexec():\n",
        "        print(\"Executing now\")\n",
        "        func1()\n",
        "        print(\"Executed\")\n",
        "    return nowexec\n",
        "\n",
        "@dec1\n",
        "def who_is_harry():\n",
        "    print(\"Harry is a good boy\")\n",
        "\n",
        "# who_is_harry = dec1(who_is_harry)\n",
        "\n",
        "who_is_harry()\n",
        "\n",
        "  \n"
      ]
    },
    {
      "cell_type": "code",
      "execution_count": null,
      "metadata": {
        "id": "4sV-o6be34rz"
      },
      "outputs": [],
      "source": [
        "# Classes - Template\n",
        "# Object - Instance Of the Class\n",
        "\n",
        "# DRY - Do not repeat Yourself\n",
        "\n",
        "# get_no_of_films(table)\n",
        "\n",
        "  \n"
      ]
    },
    {
      "cell_type": "code",
      "execution_count": null,
      "metadata": {
        "id": "gWJiwIF43_hq"
      },
      "outputs": [],
      "source": [
        "#class keyword.\n",
        "class MyClass:\n",
        "    '''This is a docstring.'''\n",
        "    pass"
      ]
    },
    {
      "cell_type": "code",
      "execution_count": null,
      "metadata": {
        "id": "LiIr8Bc_4kbF"
      },
      "outputs": [],
      "source": [
        "#variables in a class, like:\n",
        "Object_name.variable_name = “abc”"
      ]
    },
    {
      "cell_type": "code",
      "execution_count": null,
      "metadata": {
        "id": "zafkE3eE4zzc"
      },
      "outputs": [],
      "source": [
        "#create an object\n",
        "\n",
        "Stu1 = Student()\n",
        "Stu2 = Student()"
      ]
    },
    {
      "cell_type": "code",
      "execution_count": null,
      "metadata": {
        "id": "SOWkVN0-47DJ"
      },
      "outputs": [],
      "source": [
        "#Creating Our First Class \n",
        "\n",
        "\n",
        "class Student:\n",
        "    pass\n",
        "\n",
        "harry = Student()\n",
        "larry = Student()\n",
        "\n",
        "harry.name = \"Harry\"\n",
        "harry.std = 12\n",
        "harry.section = 1\n",
        "larry.std = 9\n",
        "larry.subjects = [\"hindi\", \"physics\"]\n",
        "print(harry.section, larry.subjects)\n",
        "\n",
        "\n",
        "\n",
        "  \n"
      ]
    },
    {
      "cell_type": "code",
      "execution_count": null,
      "metadata": {
        "id": "ebhrdtkh5DXl"
      },
      "outputs": [],
      "source": [
        "#Instance & Class Variables\n",
        "\n",
        "class Employee:\n",
        "    no_of_leaves = 8\n",
        "    pass\n",
        "\n",
        "harry = Employee()\n",
        "rohan = Employee()\n",
        "\n",
        "harry.name = \"Harry\"\n",
        "harry.salary = 455\n",
        "harry.role = \"Instructor\"\n",
        "\n",
        "rohan.name = \"Rohan\"\n",
        "rohan.salary = 4554\n",
        "rohan.role = \"Student\"\n",
        "\n",
        "print(Employee.no_of_leaves)\n",
        "print(Employee.__dict__)\n",
        "Employee.no_of_leaves = 9\n",
        "print(Employee.__dict__)\n",
        "print(Employee.no_of_leaves)\n",
        "\n"
      ]
    },
    {
      "cell_type": "code",
      "execution_count": null,
      "metadata": {
        "id": "5YvmzNGVGMU4"
      },
      "outputs": [],
      "source": [
        "#Self keyword:\n",
        "\n",
        "def read_number(self):\n",
        "        print(self.num)"
      ]
    },
    {
      "cell_type": "code",
      "execution_count": null,
      "metadata": {
        "id": "lCZfVBCRGbBQ"
      },
      "outputs": [],
      "source": [
        "#def keyword:\n",
        "\n",
        "def __init__(self):\n",
        "    # body of the constructor"
      ]
    },
    {
      "cell_type": "code",
      "execution_count": null,
      "metadata": {
        "id": "RcpMPVlhGhRf"
      },
      "outputs": [],
      "source": [
        "#For Example:\n",
        "\n",
        "class Person:\n",
        "  def __init__(self, name, age):\n",
        "    self.name = name\n",
        "    self.age = age\n",
        "\n",
        "p1 = Person(\"John\", 36)\n",
        "print(p1.name) \n",
        "#Output: John"
      ]
    },
    {
      "cell_type": "code",
      "execution_count": null,
      "metadata": {
        "id": "YliwvjgWGok6"
      },
      "outputs": [],
      "source": [
        "#Self & __init__() (Constructors) \n",
        "class Employee:\n",
        "    no_of_leaves = 8\n",
        "\n",
        "    def __init__(self, aname, asalary, arole):\n",
        "        self.name = aname\n",
        "        self.salary = asalary\n",
        "        self.role = arole\n",
        "\n",
        "    def printdetails(self):\n",
        "        return f\"The Name is {self.name}. Salary is {self.salary} and role is {self.role}\"\n",
        "\n",
        "\n",
        "harry = Employee(\"Harry\", 255, \"Instructor\")\n",
        "\n",
        "# rohan = Employee()\n",
        "# harry.name = \"Harry\"\n",
        "# harry.salary = 455\n",
        "# harry.role = \"Instructor\"\n",
        "#\n",
        "# rohan.name = \"Rohan\"\n",
        "# rohan.salary = 4554\n",
        "# rohan.role = \"Student\"\n",
        "\n",
        "print(harry.salary)\n",
        "\n"
      ]
    },
    {
      "cell_type": "code",
      "execution_count": null,
      "metadata": {
        "id": "hm4svHJGG3zl"
      },
      "outputs": [],
      "source": [
        "#Class Methods\n",
        "class myClass:\n",
        "    @classmethod\n",
        "    def myfunc (cls, arg1, arg2, ...):\n",
        "                          ...."
      ]
    },
    {
      "cell_type": "code",
      "execution_count": null,
      "metadata": {
        "id": "Q92tMveAG8KM"
      },
      "outputs": [],
      "source": [
        "#split():\n",
        "\n",
        "text = \"Python tutorial for absolute beginners.\"\n",
        " t = text.split()\n",
        " print(t)"
      ]
    },
    {
      "cell_type": "code",
      "execution_count": null,
      "metadata": {
        "id": "ISs7NdfKHGR2"
      },
      "outputs": [],
      "source": [
        "#Example of Class methods - alternative constructor:\n",
        "class Date:\n",
        "    def __init__(self, year, month, day):\n",
        "        self.year = year\n",
        "        self.month = month\n",
        "        self.day = day\n",
        "\n",
        "@classmethod \n",
        "    def from_dash(cls,string):\n",
        "          return cls(*string.split(\"-\"))\n",
        "\n",
        "date1=Date.from_dash(\"2008-12-5\")\n",
        "print(date1.year)\n",
        "#Output: 2008"
      ]
    },
    {
      "cell_type": "code",
      "execution_count": null,
      "metadata": {
        "id": "bL63NlGnIJWU"
      },
      "outputs": [],
      "source": [
        "#Class Methods As Alternative Constructors |\n",
        "\n",
        "\n",
        "class Employee:\n",
        "    no_of_leaves = 8\n",
        "\n",
        "    def __init__(self, aname, asalary, arole):\n",
        "        self.name = aname\n",
        "        self.salary = asalary\n",
        "        self.role = arole\n",
        "\n",
        "    def printdetails(self):\n",
        "        return f\"The Name is {self.name}. Salary is {self.salary} and role is {self.role}\"\n",
        "\n",
        "    @classmethod\n",
        "    def change_leaves(cls, newleaves):\n",
        "        cls.no_of_leaves = newleaves\n",
        "\n",
        "    @classmethod\n",
        "    def from_dash(cls, string):\n",
        "        # params = string.split(\"-\")\n",
        "        # print(params)\n",
        "        # return cls(params[0], params[1], params[2])\n",
        "        return cls(*string.split(\"-\"))\n",
        "\n",
        "\n",
        "harry = Employee(\"Harry\", 255, \"Instructor\")\n",
        "rohan = Employee(\"Rohan\", 455, \"Student\")\n",
        "karan = Employee.from_dash(\"Karan-480-Student\")\n",
        "\n",
        "print(karan.no_of_leaves)\n",
        "# rohan.change_leaves(34)\n",
        "#\n",
        "# print(harry.no_of_leaves)\n",
        "\n"
      ]
    },
    {
      "cell_type": "code",
      "execution_count": null,
      "metadata": {
        "id": "HdC9Nm9VIQy_"
      },
      "outputs": [],
      "source": [
        "#@staticmethod.   \n",
        "\n",
        "class Student:\n",
        "@staticmethod\n",
        "    def myfunc():\n",
        "        //Code to be executed\n",
        "#Alternatively, we can follow the below syntax as well:\n",
        "\n",
        "#staticmethod(class_name.method())"
      ]
    },
    {
      "cell_type": "code",
      "execution_count": null,
      "metadata": {
        "id": "JxYjfJsiMeyk"
      },
      "outputs": [],
      "source": [
        "#Static Methods\n",
        "\n",
        "class Employee:\n",
        "    no_of_leaves = 8\n",
        "\n",
        "    def __init__(self, aname, asalary, arole):\n",
        "        self.name = aname\n",
        "        self.salary = asalary\n",
        "        self.role = arole\n",
        "\n",
        "    def printdetails(self):\n",
        "        return f\"The Name is {self.name}. Salary is {self.salary} and role is {self.role}\"\n",
        "\n",
        "    @classmethod\n",
        "    def change_leaves(cls, newleaves):\n",
        "        cls.no_of_leaves = newleaves\n",
        "\n",
        "    @classmethod\n",
        "    def from_dash(cls, string):\n",
        "        return cls(*string.split(\"-\"))\n",
        "\n",
        "    @staticmethod\n",
        "    def printgood(string):\n",
        "        print(\"This is good \" + string)\n",
        "\n",
        "harry = Employee(\"Harry\", 255, \"Instructor\")\n",
        "rohan = Employee(\"Rohan\", 455, \"Student\")\n",
        "karan = Employee.from_dash(\"Karan-480-Student\")\n",
        "\n",
        "Employee.printgood(\"Rohan\")\n",
        "\n",
        "\n"
      ]
    },
    {
      "cell_type": "code",
      "execution_count": null,
      "metadata": {
        "id": "YPIqAkpeMwzj"
      },
      "outputs": [],
      "source": [
        "#Abstraction & Encapsulation \n",
        "\n",
        "\n",
        "class Employee:\n",
        "    no_of_leaves = 8\n",
        "\n",
        "    def __init__(self, aname, asalary, arole):\n",
        "        self.name = aname\n",
        "        self.salary = asalary\n",
        "        self.role = arole\n",
        "\n",
        "    def printdetails(self):\n",
        "        return f\"The Name is {self.name}. Salary is {self.salary} and role is {self.role}\"\n",
        "\n",
        "    @classmethod\n",
        "    def change_leaves(cls, newleaves):\n",
        "        cls.no_of_leaves = newleaves\n",
        "\n",
        "    @classmethod\n",
        "    def from_dash(cls, string):\n",
        "        return cls(*string.split(\"-\"))\n",
        "\n",
        "    @staticmethod\n",
        "    def printgood(string):\n",
        "        print(\"This is good \" + string)\n",
        "\n",
        "harry = Employee(\"Harry\", 255, \"Instructor\")\n",
        "rohan = Employee(\"Rohan\", 455, \"Student\")\n",
        "karan = Employee.from_dash(\"Karan-480-Student\")\n",
        "\n",
        "Employee.printgood(\"Rohan\")\n",
        "\n",
        "\n"
      ]
    },
    {
      "cell_type": "code",
      "execution_count": null,
      "metadata": {
        "id": "YsE_tuZ9M374"
      },
      "outputs": [],
      "source": [
        "# Single Inheritance Syntax:\n",
        "class Parent_class_Name:\n",
        "#Parent_class code block\n",
        "class Child_class_Name(Parent_class_name):\n",
        "#Child_class code block"
      ]
    },
    {
      "cell_type": "code",
      "execution_count": null,
      "metadata": {
        "id": "Z3Os1USeNRTa"
      },
      "outputs": [],
      "source": [
        "#example of single inheritance in Python.\n",
        "\n",
        "class Parent():\n",
        "    def first(self):\n",
        "        print('Parent function')\n",
        "        \n",
        "class Child(Parent):\n",
        "    def second(self):\n",
        "        print('Child function')\n",
        "\n",
        "object1 = Child()\n",
        "object1.first()\n",
        "object1.second()"
      ]
    },
    {
      "cell_type": "code",
      "execution_count": null,
      "metadata": {
        "id": "DrBQUBsANUP8"
      },
      "outputs": [],
      "source": [
        "#Single Inheritance \n",
        "class Employee:\n",
        "    no_of_leaves = 8\n",
        "\n",
        "    def __init__(self, aname, asalary, arole):\n",
        "        self.name = aname\n",
        "        self.salary = asalary\n",
        "        self.role = arole\n",
        "\n",
        "    def printdetails(self):\n",
        "        return f\"The Name is {self.name}. Salary is {self.salary} and role is {self.role}\"\n",
        "\n",
        "    @classmethod\n",
        "    def change_leaves(cls, newleaves):\n",
        "        cls.no_of_leaves = newleaves\n",
        "\n",
        "    @classmethod\n",
        "    def from_dash(cls, string):\n",
        "        return cls(*string.split(\"-\"))\n",
        "\n",
        "    @staticmethod\n",
        "    def printgood(string):\n",
        "        print(\"This is good \" + string)\n",
        "\n",
        "\n",
        "class Programmer(Employee):\n",
        "    no_of_holiday = 56\n",
        "    def __init__(self, aname, asalary, arole, languages):\n",
        "        self.name = aname\n",
        "        self.salary = asalary\n",
        "        self.role = arole\n",
        "        self.languages = languages\n",
        "\n",
        "\n",
        "    def printprog(self):\n",
        "        return f\"The Programmer's Name is {self.name}. Salary is {self.salary} and role is {self.role}.The languages are {self.languages}\"\n",
        "\n",
        "\n",
        "\n",
        "harry = Employee(\"Harry\", 255, \"Instructor\")\n",
        "rohan = Employee(\"Rohan\", 455, \"Student\")\n",
        "\n",
        "shubham = Programmer(\"Shubham\", 555, \"Programmer\", [\"python\"])\n",
        "karan = Programmer(\"Karan\", 777, \"Programmer\", [\"python\", \"Cpp\"])\n",
        "print(karan.no_of_holiday)\n",
        "\n"
      ]
    },
    {
      "cell_type": "code",
      "execution_count": null,
      "metadata": {
        "id": "TjlPmOiJNc1r"
      },
      "outputs": [],
      "source": [
        "#Multiple Inheritance example\n",
        "\n",
        "class Base1:\n",
        "      def func1(self):\n",
        "            print(\"this is Base1 class\")\n",
        "class Base2:\n",
        "      def func2(self):\n",
        "            print(\"this is Base2 class\")\n",
        "\n",
        "class Child(Base1 , Base2):\n",
        "      def func3(self):\n",
        "            print(\"this is Base3 class\")\n",
        "\n",
        "obj = Child()\n",
        "obj.func1()\n",
        "obj.func2()\n",
        "obj.func3()"
      ]
    },
    {
      "cell_type": "code",
      "execution_count": null,
      "metadata": {
        "colab": {
          "base_uri": "https://localhost:8080/"
        },
        "id": "WzdUY1kFNlmi",
        "outputId": "c3a597aa-f4a3-4cfe-842b-956f8b90e078"
      },
      "outputs": [
        {
          "name": "stdout",
          "output_type": "stream",
          "text": [
            "9\n"
          ]
        }
      ],
      "source": [
        "#Multiple Inheritance\n",
        "\n",
        "\n",
        "class Employee:\n",
        "    no_of_leaves = 8\n",
        "    var = 8\n",
        "\n",
        "    def __init__(self, aname, asalary, arole):\n",
        "        self.name = aname\n",
        "        self.salary = asalary\n",
        "        self.role = arole\n",
        "\n",
        "    def printdetails(self):\n",
        "        return f\"The Name is {self.name}. Salary is {self.salary} and role is {self.role}\"\n",
        "\n",
        "    @classmethod\n",
        "    def change_leaves(cls, newleaves):\n",
        "        cls.no_of_leaves = newleaves\n",
        "\n",
        "    @classmethod\n",
        "    def from_dash(cls, string):\n",
        "        return cls(*string.split(\"-\"))\n",
        "\n",
        "    @staticmethod\n",
        "    def printgood(string):\n",
        "        print(\"This is good \" + string)\n",
        "\n",
        "class Player:\n",
        "    var = 9\n",
        "    no_of_games = 4\n",
        "    def __init__(self, name, game):\n",
        "        self.name = name\n",
        "        self.game =game\n",
        "\n",
        "    def printdetails(self):\n",
        "        return f\"The Name is {self.name}. Game is {self.game}\"\n",
        "\n",
        "class CoolProgramer(Player, Employee):\n",
        "\n",
        "    language = \"C++\"\n",
        "    def printlanguage(self):\n",
        "        print(self.language)\n",
        "\n",
        "harry = Employee(\"Harry\", 255, \"Instructor\")\n",
        "rohan = Employee(\"Rohan\", 455, \"Student\")\n",
        "\n",
        "shubham = Player(\"Shubham\", [\"Cricket\"])\n",
        "karan = CoolProgramer(\"Karan\",[\"Cricket\"])\n",
        "# det = karan.printdetails()\n",
        "# karan.printlanguage()\n",
        "# print(det)\n",
        "print(karan.var)\n",
        "\n"
      ]
    },
    {
      "cell_type": "code",
      "execution_count": null,
      "metadata": {
        "id": "oE2ue--mN_RB"
      },
      "outputs": [],
      "source": [
        "#Multilevel Inheritance syntax\n",
        "\n",
        "class Parent1:\n",
        "    pass\n",
        "class Derived1(Parent1):\n",
        "    pass\n",
        "class Derived2(Derived1):\n",
        "    pass"
      ]
    },
    {
      "cell_type": "code",
      "execution_count": null,
      "metadata": {
        "id": "1QAxK8fCOD8y"
      },
      "outputs": [],
      "source": [
        "#Multilevel Inheritance  example\n",
        "\n",
        "class level1:\n",
        "      def first(self):\n",
        "            print ('code')\n",
        "\n",
        "class level2(level1): #inherit level1\n",
        "      def second(self):\n",
        "             print ('with')\n",
        "\n",
        "class level3(level2): #inherit level2\n",
        "      def third(self):\n",
        "            print ('harry')\n",
        "\n",
        "obj=level3()\n",
        "obj.first()\n",
        "obj.second()\n",
        "obj.third()"
      ]
    },
    {
      "cell_type": "code",
      "execution_count": null,
      "metadata": {
        "id": "On_5WDfOOLff"
      },
      "outputs": [],
      "source": [
        "#Multilevel Inheritance \n",
        "class Dad:\n",
        "    basketball =6\n",
        "\n",
        "class Son(Dad):\n",
        "    dance =1\n",
        "    basketball = 9\n",
        "    def isdance(self):\n",
        "        return f\"Yes I dance {self.dance} no of times\"\n",
        "\n",
        "class Grandson(Son):\n",
        "    dance =6\n",
        "    guitar = 1\n",
        "\n",
        "    def isdance(self):\n",
        "        return f\"Jackson yeah!\" \\\n",
        "            f\"Yes I dance very awesomely {self.dance} no of times\"\n",
        "\n",
        "darry = Dad()\n",
        "larry = Son()\n",
        "harry = Grandson()\n",
        "\n",
        "# print(darry.guitar)\n",
        "\n",
        "# electronic device\n",
        "# pocket gadget\n",
        "# phone\n",
        "\n",
        "\n",
        "\n"
      ]
    },
    {
      "cell_type": "code",
      "execution_count": null,
      "metadata": {
        "id": "ZVk0EqMNOQkg"
      },
      "outputs": [],
      "source": [
        "#Example of public access modifier:\n",
        "class employee:\n",
        "      def __init__(self, name, age):\n",
        "            self.name=name\n",
        "            self.age=age"
      ]
    },
    {
      "cell_type": "code",
      "execution_count": null,
      "metadata": {
        "id": "JOxsj6Z9OYxh"
      },
      "outputs": [],
      "source": [
        "#Example of protected access modifier:\n",
        "class employee:\n",
        "      def __init__(self, name, age):\n",
        "            self._name=name # protected attribute \n",
        "            self._age=age # protected attribute"
      ]
    },
    {
      "cell_type": "code",
      "execution_count": null,
      "metadata": {
        "id": "MA8vTWdpOc6T"
      },
      "outputs": [],
      "source": [
        "#Example of private access modifier:\n",
        "class employee:\n",
        "      def __init__(self, name, age):\n",
        "            self.__name=name # private attribute \n",
        "            self.__age=age # private attribute"
      ]
    },
    {
      "cell_type": "code",
      "execution_count": null,
      "metadata": {
        "id": "jxxCtCibOknh"
      },
      "outputs": [],
      "source": [
        "\n",
        "# Public -\n",
        "# Protected -\n",
        "# Private -\n",
        "\n",
        "class Employee:\n",
        "    no_of_leaves = 8\n",
        "    var = 8\n",
        "    _protec = 9\n",
        "    __pr = 98\n",
        "\n",
        "    def __init__(self, aname, asalary, arole):\n",
        "        self.name = aname\n",
        "        self.salary = asalary\n",
        "        self.role = arole\n",
        "\n",
        "    def printdetails(self):\n",
        "        return f\"The Name is {self.name}. Salary is {self.salary} and role is {self.role}\"\n",
        "\n",
        "    @classmethod\n",
        "    def change_leaves(cls, newleaves):\n",
        "        cls.no_of_leaves = newleaves\n",
        "\n",
        "    @classmethod\n",
        "    def from_dash(cls, string):\n",
        "        return cls(*string.split(\"-\"))\n",
        "\n",
        "    @staticmethod\n",
        "    def printgood(string):\n",
        "        print(\"This is good \" + string)\n",
        "\n",
        "emp = Employee(\"harry\", 343, \"Programmer\")\n",
        "print(emp._Employee__pr)\n"
      ]
    },
    {
      "cell_type": "code",
      "execution_count": null,
      "metadata": {
        "id": "tdNe10qaOn7N"
      },
      "outputs": [],
      "source": [
        "# Polymorphism example\n",
        "\n",
        "len(\"Python\") # returns 6 as result\n",
        "len([1,2,3,4,5,6,7,8,9]) # returns 9 as result"
      ]
    },
    {
      "cell_type": "code",
      "execution_count": null,
      "metadata": {
        "id": "eVBKkOBVO3aF"
      },
      "outputs": [],
      "source": [
        "#Polymorphism in '+' operator:-\n",
        "\n",
        "print(5+6)\n",
        "print(\"5\" + \"6\")"
      ]
    },
    {
      "cell_type": "code",
      "execution_count": null,
      "metadata": {
        "colab": {
          "base_uri": "https://localhost:8080/"
        },
        "id": "_AxIHU_zO7Da",
        "outputId": "f6f7f446-5752-48ef-c865-cae8bf7d3017"
      },
      "outputs": [
        {
          "name": "stdout",
          "output_type": "stream",
          "text": [
            "11\n",
            "56\n"
          ]
        }
      ],
      "source": [
        "print(5+6)\n",
        "print(\"5\" + \"6\")\n",
        "\n",
        "# Abstraction\n",
        "# Encapsulation\n",
        "# Inheritance\n",
        "# Polymorphism\n"
      ]
    },
    {
      "cell_type": "code",
      "execution_count": null,
      "metadata": {
        "id": "aXf3UJ6xPDCa"
      },
      "outputs": [],
      "source": [
        "#Syntax of using super() \n",
        "\n",
        "class Parent_Class(object):\n",
        "      def __init__(self):\n",
        "            pass\n",
        "\n",
        "class Child_Class(Parent_Class):\n",
        "     def __init__(self):\n",
        "           super().__init__()"
      ]
    },
    {
      "cell_type": "code",
      "execution_count": null,
      "metadata": {
        "id": "5ZJchb79PKPS"
      },
      "outputs": [],
      "source": [
        "#Super() and Overriding In Classes\n",
        "class A:\n",
        "    classvar1 = \"I am a class variable in class A\"\n",
        "    def __init__(self):\n",
        "        self.var1 = \"I am inside class A's constructor\"\n",
        "        self.classvar1 = \"Instance var in class A\"\n",
        "        self.special = \"Special\"\n",
        "\n",
        "class B(A):\n",
        "    classvar1 = \"I am in class B\"\n",
        "\n",
        "    def __init__(self):\n",
        "        self.var1 = \"I am inside class B's constructor\"\n",
        "        self.classvar1 = \"Instance var in class B\"\n",
        "        # super().__init__()\n",
        "        # print(super().classvar1)\n",
        "\n",
        "\n",
        "a = A()\n",
        "b = B()\n",
        "\n",
        "print(b.special, b.var1, b.classvar1)\n"
      ]
    },
    {
      "cell_type": "code",
      "execution_count": null,
      "metadata": {
        "id": "sNsE5ROFRMjy"
      },
      "outputs": [],
      "source": [
        "#Diamond Shape Problem In Multiple Inheritance | \n",
        "\n",
        "class A:\n",
        "    def met(self):\n",
        "        print(\"This is a method from class A\")\n",
        "\n",
        "class B(A):\n",
        "    def met(self):\n",
        "        print(\"This is a method from class B\")\n",
        "\n",
        "class C(A):\n",
        "    def met(self):\n",
        "        print(\"This is a method from class C\")\n",
        "\n",
        "class D(C, B):\n",
        "    def met(self):\n",
        "        print(\"This is a method from class D\")\n",
        "\n",
        "\n",
        "a = A()\n",
        "b = B()\n",
        "c = C()\n",
        "d = D()\n",
        "\n",
        "d.met()\n",
        "\n",
        "\n"
      ]
    },
    {
      "cell_type": "code",
      "execution_count": null,
      "metadata": {
        "colab": {
          "base_uri": "https://localhost:8080/"
        },
        "id": "a3yRC6goRxav",
        "outputId": "76867226-bc3c-4916-d11d-07260b3b321e"
      },
      "outputs": [
        {
          "name": "stdout",
          "output_type": "stream",
          "text": [
            "The Name is Harry. Salary is 345 and role is Programmer\n"
          ]
        }
      ],
      "source": [
        "#Operator Overloading & Dunder Methods |\n",
        "class Employee:\n",
        "    no_of_leaves = 8\n",
        "\n",
        "    def __init__(self, aname, asalary, arole):\n",
        "        self.name = aname\n",
        "        self.salary = asalary\n",
        "        self.role = arole\n",
        "\n",
        "    def printdetails(self):\n",
        "        return f\"The Name is {self.name}. Salary is {self.salary} and role is {self.role}\"\n",
        "\n",
        "    @classmethod\n",
        "    def change_leaves(cls, newleaves):\n",
        "        cls.no_of_leaves = newleaves\n",
        "\n",
        "    def __add__(self, other):\n",
        "        return self.salary + other.salary\n",
        "\n",
        "    def __truediv__(self, other):\n",
        "        return self.salary / other.salary\n",
        "\n",
        "    def __repr__(self):\n",
        "        return f\"Employee('{self.name}', {self.salary}, '{self.role}')\"\n",
        "\n",
        "    def __str__(self):\n",
        "        return f\"The Name is {self.name}. Salary is {self.salary} and role is {self.role}\"\n",
        "\n",
        "emp1 =Employee(\"Harry\", 345, \"Programmer\")\n",
        "# emp2 =Employee(\"Rohan\", 55, \"Cleaner\")\n",
        "print(str(emp1))\n"
      ]
    },
    {
      "cell_type": "code",
      "execution_count": null,
      "metadata": {
        "id": "DXObxiuyR4xG"
      },
      "outputs": [],
      "source": [
        "#syntax for defining an abstract method in an abstract class in Python:\n",
        "\n",
        "from abc import ABC, abstractmethod\n",
        "Class MyClass(ABC):\n",
        "      @abstractmethod\n",
        "      def mymethod(self):\n",
        "            #empty body\n",
        "            pass\n",
        "#If we are using a Python version older than 3.4, then we have to write:\n",
        "\n",
        "#from abc import ABCMeta, abstractmethod  \n",
        "\n",
        "'''Although if our version is newer, then we can import by the statement:\n",
        "\n",
        "from abc import ABC, abstractmethod'''        "
      ]
    },
    {
      "cell_type": "code",
      "execution_count": null,
      "metadata": {
        "colab": {
          "base_uri": "https://localhost:8080/"
        },
        "id": "sP4mky4DSlkm",
        "outputId": "12471bdd-eb6a-4312-ba5c-86da7ec76004"
      },
      "outputs": [
        {
          "name": "stdout",
          "output_type": "stream",
          "text": [
            "42\n"
          ]
        }
      ],
      "source": [
        "#Abstract Base Class & @abstractmethod\n",
        "\n",
        "\n",
        "# from abc import ABCMeta, abstractmethod\n",
        "from abc import ABC, abstractmethod\n",
        "\n",
        "class Shape(ABC):\n",
        "    @abstractmethod\n",
        "    def printarea(self):\n",
        "        return 0\n",
        "\n",
        "class Rectangle(Shape):\n",
        "    type = \"Rectangle\"\n",
        "    sides = 4\n",
        "    def __init__(self):\n",
        "        self.length = 6\n",
        "        self.breadth = 7\n",
        "\n",
        "    def printarea(self):\n",
        "        return self.length * self.breadth\n",
        "\n",
        "rect1 = Rectangle()\n",
        "print(rect1.printarea())\n",
        "\n"
      ]
    },
    {
      "cell_type": "code",
      "execution_count": null,
      "metadata": {
        "id": "cez3jjAcSU-N"
      },
      "outputs": [],
      "source": [
        " @property\n",
        " #def getter method\n",
        "\n",
        " @function_name.setter\n",
        "#def function\n",
        "\n",
        " # Deleter method \n",
        "@function_name.deleter"
      ]
    },
    {
      "cell_type": "code",
      "execution_count": null,
      "metadata": {
        "id": "Z6mm-3oCTJeB"
      },
      "outputs": [],
      "source": [
        "#Setters & Property Decorators \n",
        "\n",
        "\n",
        "class Employee:\n",
        "    def __init__(self, fname, lname):\n",
        "        self.fname = fname\n",
        "        self.lname = lname\n",
        "        # self.email = f\"{fname}.{lname}@codewithharry.com\"\n",
        "\n",
        "    def explain(self):\n",
        "        return f\"This employee is {self.fname} {self.lname}\"\n",
        "\n",
        "    @property\n",
        "    def email(self):\n",
        "        if self.fname==None or self.lname == None:\n",
        "            return \"Email is not set. Please set it using setter\"\n",
        "        return f\"{self.fname}.{self.lname}@codewithharry.com\"\n",
        "\n",
        "    @email.setter\n",
        "    def email(self, string):\n",
        "        print(\"Setting now...\")\n",
        "        names = string.split(\"@\")[0]\n",
        "        self.fname = names.split(\".\")[0]\n",
        "        self.lname = names.split(\".\")[1]\n",
        "\n",
        "    @email.deleter\n",
        "    def email(self):\n",
        "        self.fname = None\n",
        "        self.lname = None\n",
        "\n",
        "\n",
        "hindustani_supporter = Employee(\"Hindustani\", \"Supporter\")\n",
        "# nikhil_raj_pandey = Employee(\"Nikhil\", \"Raj\")\n",
        "\n",
        "print(hindustani_supporter.email)\n",
        "\n",
        "hindustani_supporter.fname = \"US\"\n",
        "\n",
        "print(hindustani_supporter.email)\n",
        "hindustani_supporter.email = \"this.that@codewithharry.com\"\n",
        "print(hindustani_supporter.fname)\n",
        "\n",
        "del hindustani_supporter.email\n",
        "print(hindustani_supporter.email)\n",
        "hindustani_supporter.email = \"Harry.Perry@codewithharry.com\"\n",
        "print(hindustani_supporter.email)\n",
        "\n"
      ]
    },
    {
      "cell_type": "code",
      "execution_count": null,
      "metadata": {
        "id": "jZENbejii4ZE"
      },
      "outputs": [],
      "source": [
        "#Object Introspection \n",
        "\n",
        "'''type(). \n",
        "type(object)'''\n",
        "\n",
        "''' id. \n",
        "id(object)'''\n",
        "\n",
        "''' dir(),\n",
        " o = MyClass()\n",
        "print(dir(o))'''"
      ]
    },
    {
      "cell_type": "markdown",
      "metadata": {
        "id": "TKbIXp0Mjg09"
      },
      "source": [
        "Functions\tWorking\n",
        "\n",
        "hasattr()\tIt checks if an object has an attribute.\n",
        "\n",
        "getattr()\tIt returns the contents of an attribute if there are some.\n",
        "\n",
        "repr()\tIt returns the string representation of an object\n",
        "\n",
        "vars()\tIt checks all the instance variables of an object\n",
        "\n",
        "issubclass()\tThis function checks that if a specific \n",
        "class is a derived class of another class.\n",
        "\n",
        "isinstance()\tIt checks if an object is an instance of a specific class. \n",
        "\n",
        "__doc__\tThis attribute gives some documentation about an object \n",
        "__name__\tThis attribute holds the name of the object\n",
        "callable()\tThis function checks if an object is a function.\n",
        "# New Section\n",
        "# help()\tIt checks what other functions do"
      ]
    },
    {
      "cell_type": "code",
      "execution_count": null,
      "metadata": {
        "colab": {
          "base_uri": "https://localhost:8080/"
        },
        "id": "87D0CVqpj9aA",
        "outputId": "4016dc4f-e066-4c9e-e401-6b843142587c"
      },
      "outputs": [
        {
          "name": "stdout",
          "output_type": "stream",
          "text": [
            "[('__class__', <class '__main__.Employee'>), ('__delattr__', <method-wrapper '__delattr__' of Employee object at 0x7f26f3db5250>), ('__dict__', {'fname': 'Skill', 'lname': 'F'}), ('__dir__', <built-in method __dir__ of Employee object at 0x7f26f3db5250>), ('__doc__', None), ('__eq__', <method-wrapper '__eq__' of Employee object at 0x7f26f3db5250>), ('__format__', <built-in method __format__ of Employee object at 0x7f26f3db5250>), ('__ge__', <method-wrapper '__ge__' of Employee object at 0x7f26f3db5250>), ('__getattribute__', <method-wrapper '__getattribute__' of Employee object at 0x7f26f3db5250>), ('__gt__', <method-wrapper '__gt__' of Employee object at 0x7f26f3db5250>), ('__hash__', <method-wrapper '__hash__' of Employee object at 0x7f26f3db5250>), ('__init__', <bound method Employee.__init__ of <__main__.Employee object at 0x7f26f3db5250>>), ('__init_subclass__', <built-in method __init_subclass__ of type object at 0x5631e92d3a60>), ('__le__', <method-wrapper '__le__' of Employee object at 0x7f26f3db5250>), ('__lt__', <method-wrapper '__lt__' of Employee object at 0x7f26f3db5250>), ('__module__', '__main__'), ('__ne__', <method-wrapper '__ne__' of Employee object at 0x7f26f3db5250>), ('__new__', <built-in method __new__ of type object at 0x5631e6cd3ba0>), ('__reduce__', <built-in method __reduce__ of Employee object at 0x7f26f3db5250>), ('__reduce_ex__', <built-in method __reduce_ex__ of Employee object at 0x7f26f3db5250>), ('__repr__', <method-wrapper '__repr__' of Employee object at 0x7f26f3db5250>), ('__setattr__', <method-wrapper '__setattr__' of Employee object at 0x7f26f3db5250>), ('__sizeof__', <built-in method __sizeof__ of Employee object at 0x7f26f3db5250>), ('__str__', <method-wrapper '__str__' of Employee object at 0x7f26f3db5250>), ('__subclasshook__', <built-in method __subclasshook__ of type object at 0x5631e92d3a60>), ('__weakref__', None), ('email', 'Skill.F@codewithharry.com'), ('explain', <bound method Employee.explain of <__main__.Employee object at 0x7f26f3db5250>>), ('fname', 'Skill'), ('lname', 'F')]\n"
          ]
        }
      ],
      "source": [
        "#Object Introspection | \n",
        "\n",
        "class Employee:\n",
        "    def __init__(self, fname, lname):\n",
        "        self.fname = fname\n",
        "        self.lname = lname\n",
        "        # self.email = f\"{fname}.{lname}@codewithharry.com\"\n",
        "\n",
        "    def explain(self):\n",
        "        return f\"This employee is {self.fname} {self.lname}\"\n",
        "\n",
        "    @property\n",
        "    def email(self):\n",
        "        if self.fname==None or self.lname == None:\n",
        "            return \"Email is not set. Please set it using setter\"\n",
        "        return f\"{self.fname}.{self.lname}@codewithharry.com\"\n",
        "\n",
        "    @email.setter\n",
        "    def email(self, string):\n",
        "        print(\"Setting now...\")\n",
        "        names = string.split(\"@\")[0]\n",
        "        self.fname = names.split(\".\")[0]\n",
        "        self.lname = names.split(\".\")[1]\n",
        "\n",
        "    @email.deleter\n",
        "    def email(self):\n",
        "        self.fname = None\n",
        "        self.lname = None\n",
        "\n",
        "\n",
        "skillf = Employee(\"Skill\", \"F\")\n",
        "# print(skillf.email)\n",
        "o = \"this is a string\"\n",
        "# print(dir(skillf))\n",
        "# print(id(\"that that\"))\n",
        "\n",
        "import inspect\n",
        "print(inspect.getmembers(skillf))\n",
        "\n",
        "\n"
      ]
    },
    {
      "cell_type": "code",
      "execution_count": null,
      "metadata": {
        "id": "VCR-YCVIkbWm"
      },
      "outputs": [],
      "source": [
        "#Python Mini Project #1 \n",
        "\n",
        "\n",
        "# Create a library class\n",
        "# display book\n",
        "# lend book - (who owns the book if not present)\n",
        "# add book\n",
        "# return book\n",
        "\n",
        "# HarryLibrary = Library(listofbooks, library_name)\n",
        "\n",
        "\n",
        "#dictionary (books-nameofperson)\n",
        "\n",
        "# create a main function and run an infinite while loop asking\n",
        "# users for their input\n"
      ]
    },
    {
      "cell_type": "code",
      "execution_count": null,
      "metadata": {
        "id": "GXk1G3l3kxZp"
      },
      "outputs": [],
      "source": [
        "for c in a:\n",
        "      print (a)\n",
        "#Here a is an iterable."
      ]
    },
    {
      "cell_type": "code",
      "execution_count": null,
      "metadata": {
        "id": "XuQ3pV9Fk4IL"
      },
      "outputs": [],
      "source": [
        "#Generators\n",
        "def getNum (x):\n",
        "    for i in range(x):\n",
        "        yield i\n",
        "\n",
        "seq = getNum (2)\n",
        "print(seq.__next__())\n",
        "print(seq.__next__())\n",
        "print(seq.__next__())"
      ]
    },
    {
      "cell_type": "code",
      "execution_count": null,
      "metadata": {
        "id": "daz8oHT-lBa9"
      },
      "outputs": [],
      "source": [
        "#generators in Python.  iterables, iterator, and iterations.\n",
        "\n",
        "\"\"\"\n",
        "Iterable - __iter__() or __getitem__()\n",
        "Iterator - __next__()\n",
        "Iteration -\n",
        "\n",
        "\"\"\"\n",
        "\n",
        "def gen(n):\n",
        "    for i in range(n):\n",
        "        yield i\n",
        "\n",
        "g = gen(3)\n",
        "# print(g.__next__())\n",
        "# print(g.__next__())\n",
        "# print(g.__next__())\n",
        "# print(g.__next__())\n",
        "\n",
        "\n",
        "# for i in g:\n",
        "#     print(i)\n",
        "\n",
        "h = 546546\n",
        "ier = iter(h)\n",
        "print(ier.__next__())\n",
        "print(ier.__next__())\n",
        "print(ier.__next__())\n",
        "# for c in h:\n",
        "#     print(c)\n"
      ]
    },
    {
      "cell_type": "code",
      "execution_count": null,
      "metadata": {
        "id": "MyutfJALlae-"
      },
      "outputs": [],
      "source": [
        "#List as ordinarily are written as such:\n",
        "\n",
        " listA = []\n",
        " for a in range(50):\n",
        "     if a%5==0:\n",
        "         listA.append(a)\n",
        "#While it can be written in a one liner format using comprehension as such:\n",
        "\n",
        "#listA = [a for a in range(50) if i%5==0]"
      ]
    },
    {
      "cell_type": "code",
      "execution_count": null,
      "metadata": {
        "id": "KANxgchxmFGh"
      },
      "outputs": [],
      "source": [
        "#Set comprehension -printing the items as a set will only print the same items once. \n",
        "\n",
        " alpha = {alpha for alpha in [\"a\", \"a\", \"b\", \"c\", \"d\", \"d\"]}"
      ]
    },
    {
      "cell_type": "code",
      "execution_count": null,
      "metadata": {
        "id": "UapHK4l0mV_G"
      },
      "outputs": [],
      "source": [
        "#syntax for a dictionary using ordinary syntax is:\n",
        "\n",
        "Normaldict = {\n",
        "  0 : \"item0\",\n",
        "  1 : \"item1\",\n",
        "  2 : \"item2\",\n",
        "  3 : \"item3\",\n",
        "  4 : \"item4\",\n",
        "}\n",
        "\n",
        "#And the more compact one is:\n",
        "\n",
        "#Compdict = {i:f\"Item {i}\" for i in range(5)}"
      ]
    },
    {
      "cell_type": "code",
      "execution_count": null,
      "metadata": {
        "id": "lyIW1QOMmu9S"
      },
      "outputs": [],
      "source": [
        " #implement comprehension on generators\n",
        "\n",
        " def gener(n):\n",
        "    for i in range(n):\n",
        "        yield i\n",
        "\n",
        "a = gener(5)\n",
        "print(a.__next__())\n",
        "\n"
      ]
    },
    {
      "cell_type": "code",
      "execution_count": null,
      "metadata": {
        "id": "vGvYj-lHm9ZS"
      },
      "outputs": [],
      "source": [
        "#one liner for generators\n",
        "gener = (i for i in range(n))\n",
        "a = gener(5)\n",
        "print(a.__next__())"
      ]
    },
    {
      "cell_type": "code",
      "execution_count": null,
      "metadata": {
        "id": "OEc1Fj6TnRpG"
      },
      "outputs": [],
      "source": [
        "#Python Comprehensions |\n",
        "\n",
        "\n",
        "# ls = []\n",
        "# for i in range(100):\n",
        "#     if i%3==0:\n",
        "#         ls.append(i)\n",
        "\n",
        "# ls = [i for i in range(100) if i%3==0]\n",
        "#\n",
        "# print(ls)\n",
        "\n",
        "\n",
        "# dict1 = {i:f\"item {i}\" for i in range(1, 10001) if i%100==0}\n",
        "# dict1 = {i:f\"Item {i}\" for i in range(5)}\n",
        "#\n",
        "# dict2 = {value:key for key,value in dict1.items()}\n",
        "# print(dict1,\"\\n\", dict2)\n",
        "\n",
        "# dresses = [dress for dress in [\"dress1\", \"dress2\",\"dress1\",\n",
        "#                                \"dress2\",\"dress1\", \"dress2\"]]\n",
        "# print(type(dresses))\n",
        "\n",
        "evens = (i for i in range(100) if i%2==0)\n",
        "# print(evens.__next__())\n",
        "\n",
        "# for item in evens:\n",
        "#     print(item)\n"
      ]
    },
    {
      "cell_type": "code",
      "execution_count": null,
      "metadata": {
        "id": "N8UPsz2ZnXBE"
      },
      "outputs": [],
      "source": [
        "#Using Else With For Loops\n",
        "for x in n: \n",
        "   #statements\n",
        " else:\n",
        "   #statements"
      ]
    },
    {
      "cell_type": "code",
      "execution_count": null,
      "metadata": {
        "id": "ew5qYuminhO6"
      },
      "outputs": [],
      "source": [
        "#example of else loop\n",
        "\n",
        "for i in ['C','O','D','E']:\n",
        " print(i)\n",
        "else: \n",
        "print(\"Statement successfully executed\")"
      ]
    },
    {
      "cell_type": "code",
      "execution_count": null,
      "metadata": {
        "colab": {
          "base_uri": "https://localhost:8080/"
        },
        "id": "M-Mcbz8unxmc",
        "outputId": "bfa285b6-bbb7-41d5-9b02-f815a861d0e8"
      },
      "outputs": [
        {
          "name": "stdout",
          "output_type": "stream",
          "text": [
            "Your item was not found\n"
          ]
        }
      ],
      "source": [
        "#Using Else With For Loops\n",
        "khana = [\"roti\", \"Sabzi\", \"chawal\"]\n",
        "\n",
        "for item in khana:\n",
        "    if item == \"rotiroll\":\n",
        "        break\n",
        "\n",
        "else:\n",
        "    print(\"Your item was not found\")\n",
        "\n",
        "\n"
      ]
    },
    {
      "cell_type": "code",
      "execution_count": null,
      "metadata": {
        "id": "qRzxD-nKq6a5"
      },
      "outputs": [],
      "source": [
        "#example of cache Decorators \n",
        "@functools.lru_cache(maxsize=4)\n",
        "def myfunc(x):\n",
        "    time.sleep(2)\n",
        "    return x\n",
        "\n",
        "myfunc(1) \n",
        "# myfunc(1) takes 2 seconds and results for myfunc(1) are now cached\n",
        "myfunc(1)\n",
        "myfunc(2)\n",
        "myfunc(3)\n",
        "myfunc(4)\n",
        "myfunc(5)"
      ]
    },
    {
      "cell_type": "code",
      "execution_count": null,
      "metadata": {
        "colab": {
          "background_save": true,
          "base_uri": "https://localhost:8080/"
        },
        "id": "xNMOrrF3rjXb",
        "outputId": "6cfbab74-8bcb-49c7-ed30-271da114749f"
      },
      "outputs": [
        {
          "name": "stdout",
          "output_type": "stream",
          "text": [
            "Now running some work\n",
            "Done... Calling again\n"
          ]
        }
      ],
      "source": [
        "# using the time module as an example in this tutorial to understand better function caching working. \n",
        "\n",
        "import time\n",
        "from functools import lru_cache\n",
        "\n",
        "@lru_cache(maxsize=32)\n",
        "def some_work(n):\n",
        "    #Some task taking n seconds\n",
        "    time.sleep(n)\n",
        "    return n\n",
        "\n",
        "if __name__ == '__main__':\n",
        "    print(\"Now running some work\")\n",
        "    some_work(3)\n",
        "    some_work(1)\n",
        "    some_work(6)\n",
        "    some_work(2)\n",
        "    print(\"Done... Calling again\")\n",
        "    input()\n",
        "    some_work(3)\n",
        "    print(\"Called again\")\n",
        "\n"
      ]
    },
    {
      "cell_type": "code",
      "execution_count": null,
      "metadata": {
        "id": "5pxzYBwGtCp4"
      },
      "outputs": [],
      "source": [
        "#else keyword:-\n",
        "\n",
        "try:\n",
        "    #Run this code\n",
        "except Exception as error:\n",
        "    #Execute this code when there is an exception\n",
        "else:\n",
        "    #No Exception. Run this code"
      ]
    },
    {
      "cell_type": "code",
      "execution_count": null,
      "metadata": {
        "id": "R5j0Dxj4tdhs"
      },
      "outputs": [],
      "source": [
        "#else keyword example:-\n",
        "\n",
        "def divide(a, b):\n",
        "    try:\n",
        "        print(f'{a}/{b} is {a / b}')\n",
        "    except ZeroDivisionError as e:\n",
        "        print(e)\n",
        "    else:\n",
        "        print(\"No Exception\")\n",
        "divide(1, 2)\n"
      ]
    },
    {
      "cell_type": "code",
      "execution_count": null,
      "metadata": {
        "colab": {
          "base_uri": "https://localhost:8080/",
          "height": 130
        },
        "id": "1-_k0K0TtsY_",
        "outputId": "f7eb744c-9f21-4020-aafe-4c6ce88556e6"
      },
      "outputs": [
        {
          "ename": "IndentationError",
          "evalue": "ignored",
          "output_type": "error",
          "traceback": [
            "\u001b[0;36m  File \u001b[0;32m\"<ipython-input-22-c3811c217468>\"\u001b[0;36m, line \u001b[0;32m5\u001b[0m\n\u001b[0;31m    except Exception as error:\u001b[0m\n\u001b[0m         ^\u001b[0m\n\u001b[0;31mIndentationError\u001b[0m\u001b[0;31m:\u001b[0m expected an indented block\n"
          ]
        }
      ],
      "source": [
        "#finally:-\n",
        "\n",
        "try:\n",
        "    #Run this code\n",
        "except Exception as error:\n",
        "    #Execute this code when there is an exception\n",
        "else:\n",
        "   #No Exception. Run this code\n",
        "finally:\n",
        "   #Always run this code"
      ]
    },
    {
      "cell_type": "code",
      "execution_count": null,
      "metadata": {
        "colab": {
          "base_uri": "https://localhost:8080/",
          "height": 235
        },
        "id": "zx_ojv2rt91d",
        "outputId": "56cac42d-1f5c-4bf8-c521-2185b233f764"
      },
      "outputs": [
        {
          "ename": "FileNotFoundError",
          "evalue": "ignored",
          "output_type": "error",
          "traceback": [
            "\u001b[0;31m---------------------------------------------------------------------------\u001b[0m",
            "\u001b[0;31mFileNotFoundError\u001b[0m                         Traceback (most recent call last)",
            "\u001b[0;32m<ipython-input-21-d88be57b04b3>\u001b[0m in \u001b[0;36m<module>\u001b[0;34m()\u001b[0m\n\u001b[1;32m      2\u001b[0m \u001b[0;34m\u001b[0m\u001b[0m\n\u001b[1;32m      3\u001b[0m \u001b[0;34m\u001b[0m\u001b[0m\n\u001b[0;32m----> 4\u001b[0;31m \u001b[0mf1\u001b[0m \u001b[0;34m=\u001b[0m \u001b[0mopen\u001b[0m\u001b[0;34m(\u001b[0m\u001b[0;34m\"harry.txt\"\u001b[0m\u001b[0;34m)\u001b[0m\u001b[0;34m\u001b[0m\u001b[0;34m\u001b[0m\u001b[0m\n\u001b[0m\u001b[1;32m      5\u001b[0m \u001b[0;34m\u001b[0m\u001b[0m\n\u001b[1;32m      6\u001b[0m \u001b[0;32mtry\u001b[0m\u001b[0;34m:\u001b[0m\u001b[0;34m\u001b[0m\u001b[0;34m\u001b[0m\u001b[0m\n",
            "\u001b[0;31mFileNotFoundError\u001b[0m: [Errno 2] No such file or directory: 'harry.txt'"
          ]
        }
      ],
      "source": [
        "#Else & Finally In Try Except | \n",
        "\n",
        "\n",
        "f1 = open(\"harry.txt\")\n",
        "\n",
        "try:\n",
        "    f = open(\"does2.txt\")\n",
        "\n",
        "except EOFError as e:\n",
        "    print(\"Print eof error aa gaya hai\", e)\n",
        "\n",
        "except IOError as e:\n",
        "    print(\"Print IO error aa gaya hai\", e)\n",
        "\n",
        "else:\n",
        "    print(\"This will run only if except is not running\")\n",
        "\n",
        "finally:\n",
        "    print(\"Run this anyway...\")\n",
        "    # f.close()\n",
        "    f1.close()\n",
        "\n",
        "print(\"Important stuff\")\n"
      ]
    },
    {
      "cell_type": "code",
      "execution_count": null,
      "metadata": {
        "id": "RrOXheFWuCw5"
      },
      "outputs": [],
      "source": [
        "#define a coroutine\n",
        "\n",
        "def myfunc():\n",
        "    while True:\n",
        "        value = (yield)"
      ]
    },
    {
      "cell_type": "code",
      "execution_count": null,
      "metadata": {
        "id": "hmizmJOVuNL_"
      },
      "outputs": [],
      "source": [
        "#Coroutine Execution:- \n",
        "\n",
        "#send() — used to send data to coroutine\n",
        " #close() — to close the coroutine\n",
        "\n",
        " def myfunc():\n",
        "    print(\"Code With Harry\")\n",
        "    while True:\n",
        "        value = (yield)\n",
        "        print(value)\n",
        "\n",
        "coroutine =myfunc()\n",
        "next(coroutine)\n",
        "coroutine.send(\"Python\")\n",
        "coroutine.send(\" Tutorial \")\n",
        "coroutine.close()"
      ]
    },
    {
      "cell_type": "code",
      "execution_count": null,
      "metadata": {
        "colab": {
          "base_uri": "https://localhost:8080/",
          "height": 287
        },
        "id": "gqODwSfMuukd",
        "outputId": "2f234a04-ed77-44b1-d489-211778949929"
      },
      "outputs": [
        {
          "name": "stdout",
          "output_type": "stream",
          "text": [
            "search started\n",
            "Next method run\n",
            "Your text is in the book\n"
          ]
        },
        {
          "ename": "StopIteration",
          "evalue": "ignored",
          "output_type": "error",
          "traceback": [
            "\u001b[0;31m---------------------------------------------------------------------------\u001b[0m",
            "\u001b[0;31mStopIteration\u001b[0m                             Traceback (most recent call last)",
            "\u001b[0;32m<ipython-input-19-4f4611fd9637>\u001b[0m in \u001b[0;36m<module>\u001b[0;34m()\u001b[0m\n\u001b[1;32m     20\u001b[0m \u001b[0;34m\u001b[0m\u001b[0m\n\u001b[1;32m     21\u001b[0m \u001b[0msearch\u001b[0m\u001b[0;34m.\u001b[0m\u001b[0mclose\u001b[0m\u001b[0;34m(\u001b[0m\u001b[0;34m)\u001b[0m\u001b[0;34m\u001b[0m\u001b[0;34m\u001b[0m\u001b[0m\n\u001b[0;32m---> 22\u001b[0;31m \u001b[0msearch\u001b[0m\u001b[0;34m.\u001b[0m\u001b[0msend\u001b[0m\u001b[0;34m(\u001b[0m\u001b[0;34m\"harry\"\u001b[0m\u001b[0;34m)\u001b[0m\u001b[0;34m\u001b[0m\u001b[0;34m\u001b[0m\u001b[0m\n\u001b[0m\u001b[1;32m     23\u001b[0m \u001b[0;31m# input(\"press any key\")\u001b[0m\u001b[0;34m\u001b[0m\u001b[0;34m\u001b[0m\u001b[0;34m\u001b[0m\u001b[0m\n\u001b[1;32m     24\u001b[0m \u001b[0;31m# search.send(\"harry and\")\u001b[0m\u001b[0;34m\u001b[0m\u001b[0;34m\u001b[0m\u001b[0;34m\u001b[0m\u001b[0m\n",
            "\u001b[0;31mStopIteration\u001b[0m: "
          ]
        }
      ],
      "source": [
        "#Coroutines In Python \n",
        "def searcher():\n",
        "    import time\n",
        "    # Some 4 seconds time consuming task\n",
        "    book = \"This is a book on harry and code with harry and good\"\n",
        "    time.sleep(4)\n",
        "\n",
        "    while True:\n",
        "        text = (yield)\n",
        "        if text in book:\n",
        "            print(\"Your text is in the book\")\n",
        "        else:\n",
        "            print(\"Text is not in the book\")\n",
        "\n",
        "search = searcher()\n",
        "print(\"search started\")\n",
        "next(search)\n",
        "print(\"Next method run\")\n",
        "search.send(\"harry\")\n",
        "\n",
        "search.close()\n",
        "search.send(\"harry\")\n",
        "# input(\"press any key\")\n",
        "# search.send(\"harry and\")\n",
        "# input(\"press any key\")\n",
        "# search.send(\"thi si\")\n",
        "# input(\"press any key\")\n",
        "# search.send(\"joker\")\n",
        "# input(\"press any key\")\n",
        "# search.send(\"like this video\")\n",
        "\n"
      ]
    },
    {
      "cell_type": "code",
      "execution_count": null,
      "metadata": {
        "colab": {
          "base_uri": "https://localhost:8080/",
          "height": 373
        },
        "id": "nkeZCALUu6NA",
        "outputId": "ce046335-78bb-4d34-8b02-fb2c0ed8116e"
      },
      "outputs": [
        {
          "ename": "ModuleNotFoundError",
          "evalue": "ignored",
          "output_type": "error",
          "traceback": [
            "\u001b[0;31m---------------------------------------------------------------------------\u001b[0m",
            "\u001b[0;31mModuleNotFoundError\u001b[0m                       Traceback (most recent call last)",
            "\u001b[0;32m<ipython-input-18-72941312d79d>\u001b[0m in \u001b[0;36m<module>\u001b[0;34m()\u001b[0m\n\u001b[1;32m     10\u001b[0m \u001b[0;31m# Pygame module to play audio\u001b[0m\u001b[0;34m\u001b[0m\u001b[0;34m\u001b[0m\u001b[0;34m\u001b[0m\u001b[0m\n\u001b[1;32m     11\u001b[0m \u001b[0;34m\u001b[0m\u001b[0m\n\u001b[0;32m---> 12\u001b[0;31m \u001b[0;32mfrom\u001b[0m \u001b[0mpygame\u001b[0m \u001b[0;32mimport\u001b[0m \u001b[0mmixer\u001b[0m\u001b[0;34m\u001b[0m\u001b[0;34m\u001b[0m\u001b[0m\n\u001b[0m\u001b[1;32m     13\u001b[0m \u001b[0;32mfrom\u001b[0m \u001b[0mdatetime\u001b[0m \u001b[0;32mimport\u001b[0m \u001b[0mdatetime\u001b[0m\u001b[0;34m\u001b[0m\u001b[0;34m\u001b[0m\u001b[0m\n\u001b[1;32m     14\u001b[0m \u001b[0;32mfrom\u001b[0m \u001b[0mtime\u001b[0m \u001b[0;32mimport\u001b[0m \u001b[0mtime\u001b[0m\u001b[0;34m\u001b[0m\u001b[0;34m\u001b[0m\u001b[0m\n",
            "\u001b[0;31mModuleNotFoundError\u001b[0m: No module named 'pygame'",
            "",
            "\u001b[0;31m---------------------------------------------------------------------------\u001b[0;32m\nNOTE: If your import is failing due to a missing package, you can\nmanually install dependencies using either !pip or !apt.\n\nTo view examples of installing some common dependencies, click the\n\"Open Examples\" button below.\n\u001b[0;31m---------------------------------------------------------------------------\u001b[0m\n"
          ]
        }
      ],
      "source": [
        "#Exercise 7: Solution & First Solver |\n",
        "\n",
        "\n",
        "#Healthy Programmer\n",
        "# 9am - 5pm\n",
        "# Water - water.mp3 (3.5 litres) - Drank - log - Every 40 min\n",
        "# Eyes - eyes.mp3 - every 30 min - EyDone - log - Every 30 min\n",
        "# Physical activity - physical.mp3 every - 45 min - ExDone - log\n",
        "# Rules\n",
        "# Pygame module to play audio\n",
        "\n",
        "from pygame import mixer\n",
        "from datetime import datetime\n",
        "from time import time\n",
        "\n",
        "def musiconloop(file, stopper):\n",
        "    mixer.init()\n",
        "    mixer.music.load(file)\n",
        "    mixer.music.play()\n",
        "    while True:\n",
        "        input_of_user = input()\n",
        "        if input_of_user == stopper:\n",
        "            mixer.music.stop()\n",
        "            break\n",
        "\n",
        "def log_now(msg):\n",
        "    with open(\"mylogs.txt\", \"a\") as f:\n",
        "        f.write(f\"{msg} {datetime.now()}\\n\")\n",
        "\n",
        "if __name__ == '__main__':\n",
        "    # musiconloop(\"water.mp3\", \"stop\")\n",
        "    init_water = time()\n",
        "    init_eyes = time()\n",
        "    init_exercise = time()\n",
        "    watersecs = 40*60\n",
        "    exsecs = 30*60\n",
        "    eyessecs = 45*60\n",
        "\n",
        "    while True:\n",
        "        if time() - init_water > watersecs:\n",
        "            print(\"Water Drinking time. Enter 'drank' to stop the alarm.\")\n",
        "            musiconloop('water.mp3', 'drank')\n",
        "            init_water = time()\n",
        "            log_now(\"Drank Water at\")\n",
        "\n",
        "        if time() - init_eyes >eyessecs:\n",
        "            print(\"Eye exercise time. Enter 'doneeyes' to stop the alarm.\")\n",
        "            musiconloop('eyes.mp3', 'doneeyes')\n",
        "            init_eyes = time()\n",
        "            log_now(\"Eyes Relaxed at\")\n",
        "\n",
        "        if time() - init_exercise > exsecs:\n",
        "            print(\"Physical Activity Time. Enter 'donephy' to stop the alarm.\")\n",
        "            musiconloop('physical.mp3', 'donephy')\n",
        "            init_exercise = time()\n",
        "            log_now(\"Physical Activity done at\")\n",
        "\n",
        "\n",
        "\n",
        "\n"
      ]
    },
    {
      "cell_type": "code",
      "execution_count": null,
      "metadata": {
        "colab": {
          "base_uri": "https://localhost:8080/"
        },
        "id": "UNKN4E4PvG0R",
        "outputId": "4d9bacb3-904a-4e3c-a3d1-4b062664cf02"
      },
      "outputs": [
        {
          "name": "stdout",
          "output_type": "stream",
          "text": [
            "False\n"
          ]
        }
      ],
      "source": [
        "#Os Module |\n",
        "\n",
        "\n",
        "import os\n",
        "# print(dir(os))\n",
        "# print(os.getcwd())\n",
        "# os.chdir(\"C://\")\n",
        "# print(os.getcwd())\n",
        "# f = open(\"harry.txt\")\n",
        "# print(os.listdir(\"C://\"))\n",
        "# os.makedirs(\"This/that\")\n",
        "# os.rename(\"harry.txt\", \"codewithharry.txt\")\n",
        "# print(os.environ.get('Path'))\n",
        "# print(os.path.join(\"C:/\", \"/harry.txt\"))\n",
        "\n",
        "# print(os.path.exists(\"C://Program Files2\"))\n",
        "print(os.path.isfile(\"C://Program Files\"))\n"
      ]
    },
    {
      "cell_type": "code",
      "execution_count": null,
      "metadata": {
        "colab": {
          "base_uri": "https://localhost:8080/",
          "height": 321
        },
        "id": "mfARYwszvSN7",
        "outputId": "76166b00-ff47-4b56-a10f-13b5a016bc55"
      },
      "outputs": [
        {
          "ename": "FileNotFoundError",
          "evalue": "ignored",
          "output_type": "error",
          "traceback": [
            "\u001b[0;31m---------------------------------------------------------------------------\u001b[0m",
            "\u001b[0;31mFileNotFoundError\u001b[0m                         Traceback (most recent call last)",
            "\u001b[0;32m<ipython-input-16-dfea36e531f9>\u001b[0m in \u001b[0;36m<module>\u001b[0;34m()\u001b[0m\n\u001b[1;32m     25\u001b[0m \u001b[0;34m\u001b[0m\u001b[0m\n\u001b[1;32m     26\u001b[0m soldier(r\"C:\\Users\\Haris\\Desktop\\testing\",\n\u001b[0;32m---> 27\u001b[0;31m         r\"C:\\Users\\Haris\\PycharmProjects\\PythonTuts\\ext.txt\", \".png\" )\n\u001b[0m",
            "\u001b[0;32m<ipython-input-16-dfea36e531f9>\u001b[0m in \u001b[0;36msoldier\u001b[0;34m(path, file, format)\u001b[0m\n\u001b[1;32m     10\u001b[0m \u001b[0;32mimport\u001b[0m \u001b[0mos\u001b[0m\u001b[0;34m\u001b[0m\u001b[0;34m\u001b[0m\u001b[0m\n\u001b[1;32m     11\u001b[0m \u001b[0;32mdef\u001b[0m \u001b[0msoldier\u001b[0m\u001b[0;34m(\u001b[0m\u001b[0mpath\u001b[0m\u001b[0;34m,\u001b[0m \u001b[0mfile\u001b[0m\u001b[0;34m,\u001b[0m \u001b[0mformat\u001b[0m\u001b[0;34m)\u001b[0m\u001b[0;34m:\u001b[0m\u001b[0;34m\u001b[0m\u001b[0;34m\u001b[0m\u001b[0m\n\u001b[0;32m---> 12\u001b[0;31m     \u001b[0mos\u001b[0m\u001b[0;34m.\u001b[0m\u001b[0mchdir\u001b[0m\u001b[0;34m(\u001b[0m\u001b[0mpath\u001b[0m\u001b[0;34m)\u001b[0m\u001b[0;34m\u001b[0m\u001b[0;34m\u001b[0m\u001b[0m\n\u001b[0m\u001b[1;32m     13\u001b[0m     \u001b[0mi\u001b[0m \u001b[0;34m=\u001b[0m \u001b[0;36m1\u001b[0m\u001b[0;34m\u001b[0m\u001b[0;34m\u001b[0m\u001b[0m\n\u001b[1;32m     14\u001b[0m     \u001b[0mfiles\u001b[0m \u001b[0;34m=\u001b[0m \u001b[0mos\u001b[0m\u001b[0;34m.\u001b[0m\u001b[0mlistdir\u001b[0m\u001b[0;34m(\u001b[0m\u001b[0mpath\u001b[0m\u001b[0;34m)\u001b[0m\u001b[0;34m\u001b[0m\u001b[0;34m\u001b[0m\u001b[0m\n",
            "\u001b[0;31mFileNotFoundError\u001b[0m: [Errno 2] No such file or directory: 'C:\\\\Users\\\\Haris\\\\Desktop\\\\testing'"
          ]
        }
      ],
      "source": [
        "#Exercise 8: Oh Soldier Prettify My Folder|\n",
        "\n",
        "\n",
        "# Oh soldier Prettify my Folder\n",
        "\n",
        "# path, dictionary file, format\n",
        "\n",
        "# def soldier(\"C://\", \"harry.txt\", \"jpg\")\n",
        "\n",
        "import os\n",
        "def soldier(path, file, format):\n",
        "    os.chdir(path)\n",
        "    i = 1\n",
        "    files = os.listdir(path)\n",
        "    with open(file) as f:\n",
        "        filelist = f.read().split(\"\\n\")\n",
        "\n",
        "    for file in files:\n",
        "        if file not in filelist:\n",
        "            os.rename(file, file.capitalize())\n",
        "\n",
        "        if os.path.splitext(file)[1] == format:\n",
        "            os.rename(file, f\"{i}{format}\")\n",
        "            i +=1\n",
        "\n",
        "soldier(r\"C:\\Users\\Haris\\Desktop\\testing\",\n",
        "        r\"C:\\Users\\Haris\\PycharmProjects\\PythonTuts\\ext.txt\", \".png\" )\n"
      ]
    },
    {
      "cell_type": "code",
      "execution_count": null,
      "metadata": {
        "colab": {
          "base_uri": "https://localhost:8080/",
          "height": 130
        },
        "id": "FGHJ6PCRvw4O",
        "outputId": "21be325a-a095-4f82-8f21-4f5cbc301086"
      },
      "outputs": [
        {
          "ename": "SyntaxError",
          "evalue": "ignored",
          "output_type": "error",
          "traceback": [
            "\u001b[0;36m  File \u001b[0;32m\"<ipython-input-15-0de3b40baaa0>\"\u001b[0;36m, line \u001b[0;32m3\u001b[0m\n\u001b[0;31m    requests.get(URL, params={key: value}, args)\u001b[0m\n\u001b[0m                                          ^\u001b[0m\n\u001b[0;31mSyntaxError\u001b[0m\u001b[0;31m:\u001b[0m positional argument follows keyword argument\n"
          ]
        }
      ],
      "source": [
        "#get():basic syntax is:\n",
        "\n",
        "requests.get(URL, params={key: value}, args)"
      ]
    },
    {
      "cell_type": "code",
      "execution_count": null,
      "metadata": {
        "id": "TwYY-6xhv7U3"
      },
      "outputs": [],
      "source": [
        "#Requests Module For HTTP Requests |\n",
        "\n",
        "import requests\n",
        "r = requests.get(\"https://financialmodelingprep.com/api/company/price/AAPL\")\n",
        "print(r.text)\n",
        "print(r.status_code)\n",
        "\n",
        "# url = \"www.something.com\"\n",
        "# data = {\n",
        "#     \"p1\":4,\n",
        "#     \"p2\":8\n",
        "# }\n",
        "# r2 = requests.post(url=url, data=data)\n"
      ]
    },
    {
      "cell_type": "markdown",
      "metadata": {
        "id": "nykRVmFYw60k"
      },
      "source": [
        "load(): This method is used to load data from a JSON file into a python dictionary.\n",
        "\n",
        "Loads( ): This method is used to load data from a JSON variable into a python dictionary.\n",
        "\n",
        "dump(): This method is used to load data from the python dictionary to the JSON file.\n",
        "\n",
        "dumps(): This method is used to load data from the python dictionary to the JSON variable."
      ]
    },
    {
      "cell_type": "code",
      "execution_count": null,
      "metadata": {
        "colab": {
          "base_uri": "https://localhost:8080/"
        },
        "id": "JjHF93pyxCzZ",
        "outputId": "7e3680c9-e43b-4e64-ca38-7dd478783e50"
      },
      "outputs": [
        {
          "name": "stdout",
          "output_type": "stream",
          "text": [
            "{\"name\": \"harry\", \"salary\": 9000, \"language\": \"Python\"}\n"
          ]
        }
      ],
      "source": [
        "#JSON package in Python\n",
        "import json\n",
        "a ={\"name\":\"harry\",\"salary\":9000,\"language\":\"Python\"}  \n",
        "# conversion to JSON done by dumps() function\n",
        "b = json.dumps(a)\n",
        "print(b) # printing the output"
      ]
    },
    {
      "cell_type": "code",
      "execution_count": null,
      "metadata": {
        "colab": {
          "base_uri": "https://localhost:8080/"
        },
        "id": "UnZQQeJ2xRR0",
        "outputId": "e06ac036-ed28-42a3-a980-ef054983bf1c"
      },
      "outputs": [
        {
          "name": "stdout",
          "output_type": "stream",
          "text": [
            "{\"var1\":\"harry\", \"var2\":56}\n",
            "<class 'dict'>\n",
            "{\"channel_name\": \"CodeWithHarry\", \"cars\": [\"bmw\", \"audi a8\", \"ferrari\"], \"fridge\": [\"roti\", 540], \"isbad\": false}\n"
          ]
        }
      ],
      "source": [
        "#Json Module in python \n",
        "import json\n",
        "\n",
        "data = '{\"var1\":\"harry\", \"var2\":56}'\n",
        "print(data)\n",
        "\n",
        "parsed = json.loads(data)\n",
        "print(type(parsed))\n",
        "\n",
        "#Task 1 - json.load?\n",
        "\n",
        "\n",
        "data2 = {\n",
        "    \"channel_name\": \"CodeWithHarry\",\n",
        "    \"cars\": ['bmw', 'audi a8', 'ferrari'],\n",
        "    \"fridge\": ('roti', 540),\n",
        "    \"isbad\": False\n",
        "}\n",
        "\n",
        "jscomp = json.dumps(data2)\n",
        "print(jscomp)\n",
        "\n",
        "# Task 2 = what is sort_keys parameter in dumps\n"
      ]
    },
    {
      "cell_type": "code",
      "execution_count": null,
      "metadata": {
        "colab": {
          "base_uri": "https://localhost:8080/",
          "height": 130
        },
        "id": "I4ZTCWNPxrjV",
        "outputId": "d7c14cae-5019-46b1-93c1-fbae6b08bfe1"
      },
      "outputs": [
        {
          "ename": "SyntaxError",
          "evalue": "ignored",
          "output_type": "error",
          "traceback": [
            "\u001b[0;36m  File \u001b[0;32m\"<ipython-input-12-4d494bec5f92>\"\u001b[0;36m, line \u001b[0;32m4\u001b[0m\n\u001b[0;31m    speak=Dispatch(“SAPI.SpVoice”)\u001b[0m\n\u001b[0m                       ^\u001b[0m\n\u001b[0;31mSyntaxError\u001b[0m\u001b[0;31m:\u001b[0m invalid character in identifier\n"
          ]
        }
      ],
      "source": [
        "#you execute the following statements, you will hear a person reading a text given as a string argument in speak() function. \n",
        "def speak(str):\n",
        "      from win32com.client import Dispatch\n",
        "      speak=Dispatch(“SAPI.SpVoice”)\n",
        "      speak.Speak(str)\n",
        "\n",
        "if __name__= ’__main__’:\n",
        "     speak(“You are the best my friend”);"
      ]
    },
    {
      "cell_type": "code",
      "execution_count": null,
      "metadata": {
        "id": "VpfmXvMxxxbo"
      },
      "outputs": [],
      "source": [
        "\n",
        "# Akhbaar padhke sunaao\n",
        "# Attempt it yourself and watch the series for solution and shoutouts for this lecture!\n"
      ]
    },
    {
      "cell_type": "code",
      "execution_count": null,
      "metadata": {
        "id": "y2EaxY50x6wF"
      },
      "outputs": [],
      "source": [
        "#Pickling modls example:-\n",
        "\n",
        "py_dict = { 'name': 'harry', 'salary':9000, 'language': 'Hindi' }\n",
        "myfile = open('filename','wb')\n",
        "pickle.dump(py_dict,myfile)\n",
        "myfile.close()"
      ]
    },
    {
      "cell_type": "code",
      "execution_count": null,
      "metadata": {
        "id": "gQwkI52029Mt"
      },
      "outputs": [],
      "source": [
        "#unpickling(send a list while pickling, the return result will also be a list.)\n",
        "\n",
        "myfile = open(filename,'rb')\n",
        "py_dict = pickle.load(myfile)\n",
        "myfile.close()"
      ]
    },
    {
      "cell_type": "markdown",
      "metadata": {
        "id": "XGcNrFnH3K7N"
      },
      "source": [
        "## Pickle.PicklingError: If the pickle object does not support pickling, then Pickle.PicklingError exception is raised.\n",
        "\n",
        "Pickle.UnpicklingError: This exception will raise if the file contains bad or corrupted data.\n",
        "\n",
        "EOF Error: This exception will be raised if the end of the file is detected."
      ]
    },
    {
      "cell_type": "code",
      "execution_count": null,
      "metadata": {
        "colab": {
          "base_uri": "https://localhost:8080/",
          "height": 235
        },
        "id": "l0mmOeiX3VPx",
        "outputId": "55c9fcf0-2f55-4007-9aaa-3dbad19b75b5"
      },
      "outputs": [
        {
          "ename": "FileNotFoundError",
          "evalue": "ignored",
          "output_type": "error",
          "traceback": [
            "\u001b[0;31m---------------------------------------------------------------------------\u001b[0m",
            "\u001b[0;31mFileNotFoundError\u001b[0m                         Traceback (most recent call last)",
            "\u001b[0;32m<ipython-input-9-78b231bfef76>\u001b[0m in \u001b[0;36m<module>\u001b[0;34m()\u001b[0m\n\u001b[1;32m     10\u001b[0m \u001b[0;34m\u001b[0m\u001b[0m\n\u001b[1;32m     11\u001b[0m \u001b[0mfile\u001b[0m \u001b[0;34m=\u001b[0m \u001b[0;34m\"mycar.pkl\"\u001b[0m\u001b[0;34m\u001b[0m\u001b[0;34m\u001b[0m\u001b[0m\n\u001b[0;32m---> 12\u001b[0;31m \u001b[0mfileobj\u001b[0m \u001b[0;34m=\u001b[0m \u001b[0mopen\u001b[0m\u001b[0;34m(\u001b[0m\u001b[0mfile\u001b[0m\u001b[0;34m,\u001b[0m \u001b[0;34m'rb'\u001b[0m\u001b[0;34m)\u001b[0m\u001b[0;34m\u001b[0m\u001b[0;34m\u001b[0m\u001b[0m\n\u001b[0m\u001b[1;32m     13\u001b[0m \u001b[0mmycar\u001b[0m \u001b[0;34m=\u001b[0m \u001b[0mpickle\u001b[0m\u001b[0;34m.\u001b[0m\u001b[0mload\u001b[0m\u001b[0;34m(\u001b[0m\u001b[0mfileobj\u001b[0m\u001b[0;34m)\u001b[0m\u001b[0;34m\u001b[0m\u001b[0;34m\u001b[0m\u001b[0m\n\u001b[1;32m     14\u001b[0m \u001b[0mprint\u001b[0m\u001b[0;34m(\u001b[0m\u001b[0mmycar\u001b[0m\u001b[0;34m)\u001b[0m\u001b[0;34m\u001b[0m\u001b[0;34m\u001b[0m\u001b[0m\n",
            "\u001b[0;31mFileNotFoundError\u001b[0m: [Errno 2] No such file or directory: 'mycar.pkl'"
          ]
        }
      ],
      "source": [
        "#Pickle Module |\n",
        "import pickle\n",
        "\n",
        "# Pickling a python object\n",
        "# cars = [\"Audi\", \"BMW\", \"Maruti Suzuki\", \"Harryti Tuzuki\"]\n",
        "# file = \"mycar.pkl\"\n",
        "# fileobj = open(file, 'wb')\n",
        "# pickle.dump(cars, fileobj)\n",
        "# fileobj.close()\n",
        "\n",
        "file = \"mycar.pkl\"\n",
        "fileobj = open(file, 'rb')\n",
        "mycar = pickle.load(fileobj)\n",
        "print(mycar)\n",
        "print(type(mycar))\n",
        "\n",
        "\n",
        "# pickle.loads = ?\n",
        "\n",
        "\n",
        "\n",
        "\n"
      ]
    },
    {
      "cell_type": "code",
      "execution_count": null,
      "metadata": {
        "id": "QE5vqZd93cZ0"
      },
      "outputs": [],
      "source": [
        "#Exercise 10: Pickling Iris | \n",
        "\n",
        "\n",
        "# pickle\n",
        "# Use requests module to download the iris dataset\n",
        "\n"
      ]
    },
    {
      "cell_type": "markdown",
      "metadata": {
        "id": "yfWumPCY3xjf"
      },
      "source": [
        "# Regular Expressions |"
      ]
    },
    {
      "cell_type": "markdown",
      "metadata": {
        "id": "7r1TzgFP3063"
      },
      "source": [
        "**findall**: It finds all searches for matches and prints resultant in the form of a list.\n",
        "\n",
        "**search**: It works the same as a findall, but the resultant is a matched object if any is found.\n",
        "\n",
        "**split**: The split function splits the string from every matched into two new strings.\n",
        "\n",
        "**sub**: The sub-function works exactly like a replace function in notepad or MS Word. It replaces the original word with a word of our choice.\n",
        "\n",
        "**finditer**: The finditer yields an iterator as a resultant with all the objects that match the one we sent it) finditer supports more attributes than any other function defined above. It also provides more details related to the matched object. So, most of the examples we are going to see next will contain a finditer function in them."
      ]
    },
    {
      "cell_type": "markdown",
      "metadata": {
        "id": "CrHkX72x4GKF"
      },
      "source": [
        "\\A:         the resultant is a match if the input characters are at the beginning of the string                \n",
        "\\b          the resultant is a match whether the input characters are at the beginning or the end of a word                               \n",
        "\\d          the resultant is a match if the string contains any digits  \n",
        "\\s           the resultant is a match if the string contains a white space character"
      ]
    },
    {
      "cell_type": "markdown",
      "metadata": {
        "id": "0m3OCPct4jCX"
      },
      "source": [
        "‘.’: Matches any single character except newline\n",
        "\n",
        "‘$’: Anchors a match at the end of a string\n",
        "\n",
        "‘*’: Matches zero or more repetitions\n",
        "\n",
        "‘+':Matches one or more repetitions\n",
        "\n",
        "‘{}’: Matches an explicitly specified number of repetitions\n",
        "\n",
        "### ‘[]’: Specifies a character class"
      ]
    },
    {
      "cell_type": "code",
      "execution_count": null,
      "metadata": {
        "id": "le_G-ofQ9rsS"
      },
      "outputs": [],
      "source": [
        "'''Re.txt file as described in the video!\n",
        "\n",
        "Meta Characters\n",
        "[] A set of characters\n",
        "\\ Signals a special sequence (can also be used to escape special characters)\n",
        ". Any character (except newline character)\n",
        "^ Starts with\n",
        "$ Ends with\n",
        "* Zero or more occurrences\n",
        "+ One or more occurrences\n",
        "{} Exactly the specified number of occurrences\n",
        "| Either or\n",
        "() Capture and group\n",
        "Special Sequences\n",
        "\\A Returns a match if the specified characters are at the beginning of the string\n",
        "\\b Returns a match where the specified characters are at the beginning or at the end of a word r” ain\\b.”\n",
        "\\B Returns a match where the specified characters are present, but NOT at the beginning (or at the end) of a word\n",
        "\n",
        "\\d Returns a match where the string contains digits (numbers from 0-9)\n",
        "\\D Returns a match where the string DOES NOT contain digits\n",
        "\\s Returns a match where the string contains a white space character\n",
        "\\S Returns a match where the string DOES NOT contain a white space character\n",
        "\\w Returns a match where the string contains any word characters (characters from a to Z, digits from 0-9, and the underscore _ character)\n",
        "\\W Returns a match where the string DOES NOT contain any word characters\n",
        "\\Z Returns a match if the specified characters are at the end of the string'''\n",
        "\n"
      ]
    },
    {
      "cell_type": "code",
      "execution_count": null,
      "metadata": {
        "id": "TobzDrUZ966o"
      },
      "outputs": [],
      "source": [
        "#Regular Expressions \n",
        "import re\n",
        "mystr = '''Tata Limited\n",
        "Dr. David Landsman, executive director\n",
        "18, Grosvenor Place\n",
        "London SW1X 7HSc\n",
        "Phone: +44 (20) 7235 8281\n",
        "Fax: +44 (20) 7235 8727\n",
        "Email: tata@tata.co.uk\n",
        "Website: www.europe.tata.com\n",
        "Directions: View map\n",
        "\n",
        "Tata Sons, North America\n",
        "1700 North Moore St, Suite 1520\n",
        "Arlington, VA 22209-1911\n",
        "USA\n",
        "Phone: +1 (703) 243 9787\n",
        "Fax: +1 (703) 243 9791\n",
        "66-66\n",
        "455-4545\n",
        "Email: northamerica@tata.com \n",
        "Website: www.northamerica.tata.com\n",
        "Directions: View map fass\n",
        "harry bhai lekin\n",
        "bahut hi badia aadmi haiaiinaiiiiiiiiiiii'''\n",
        "\n",
        "# findall, search, split, sub, finditer\n",
        "# patt = re.compile(r'fass')\n",
        "# patt = re.compile(r'.adm')\n",
        "# patt = re.compile(r'^Tata')\n",
        "# patt = re.compile(r'iin$')\n",
        "# patt = re.compile(r'ai{2}')\n",
        "# patt = re.compile(r'(ai){1}')\n",
        "# patt = re.compile(r'ai{1}|Fax')\n",
        "\n",
        "\n",
        "# Special Sequences\n",
        "# patt = re.compile(r'Fax\\b')\n",
        "# patt = re.compile(r'27\\b')\n",
        "patt = re.compile(r'\\d{5}-\\d{4}')\n",
        "# Task\n",
        "# Given a string with a lot of indian phone numbers starting from +91\n",
        "\n",
        "matches = patt.finditer(mystr)\n",
        "for match in matches:\n",
        "    print(match)\n",
        "\n",
        "\n",
        "\"\"\"\n",
        "\n",
        "\n",
        "\"\"\"\n"
      ]
    },
    {
      "cell_type": "code",
      "execution_count": null,
      "metadata": {
        "colab": {
          "base_uri": "https://localhost:8080/",
          "height": 321
        },
        "id": "P-TPi_IR-EK_",
        "outputId": "fdd21457-edde-42cd-9ddb-73f7960b518d"
      },
      "outputs": [
        {
          "ename": "FileNotFoundError",
          "evalue": "ignored",
          "output_type": "error",
          "traceback": [
            "\u001b[0;31m---------------------------------------------------------------------------\u001b[0m",
            "\u001b[0;31mFileNotFoundError\u001b[0m                         Traceback (most recent call last)",
            "\u001b[0;32m<ipython-input-8-e315671a91a3>\u001b[0m in \u001b[0;36m<module>\u001b[0;34m()\u001b[0m\n\u001b[1;32m     25\u001b[0m \u001b[0;34m\u001b[0m\u001b[0m\n\u001b[1;32m     26\u001b[0m soldier(r\"C:\\Users\\Haris\\Desktop\\testing\",\n\u001b[0;32m---> 27\u001b[0;31m         r\"C:\\Users\\Haris\\PycharmProjects\\PythonTuts\\ext.txt\", \".png\" )\n\u001b[0m",
            "\u001b[0;32m<ipython-input-8-e315671a91a3>\u001b[0m in \u001b[0;36msoldier\u001b[0;34m(path, file, format)\u001b[0m\n\u001b[1;32m     10\u001b[0m \u001b[0;32mimport\u001b[0m \u001b[0mos\u001b[0m\u001b[0;34m\u001b[0m\u001b[0;34m\u001b[0m\u001b[0m\n\u001b[1;32m     11\u001b[0m \u001b[0;32mdef\u001b[0m \u001b[0msoldier\u001b[0m\u001b[0;34m(\u001b[0m\u001b[0mpath\u001b[0m\u001b[0;34m,\u001b[0m \u001b[0mfile\u001b[0m\u001b[0;34m,\u001b[0m \u001b[0mformat\u001b[0m\u001b[0;34m)\u001b[0m\u001b[0;34m:\u001b[0m\u001b[0;34m\u001b[0m\u001b[0;34m\u001b[0m\u001b[0m\n\u001b[0;32m---> 12\u001b[0;31m     \u001b[0mos\u001b[0m\u001b[0;34m.\u001b[0m\u001b[0mchdir\u001b[0m\u001b[0;34m(\u001b[0m\u001b[0mpath\u001b[0m\u001b[0;34m)\u001b[0m\u001b[0;34m\u001b[0m\u001b[0;34m\u001b[0m\u001b[0m\n\u001b[0m\u001b[1;32m     13\u001b[0m     \u001b[0mi\u001b[0m \u001b[0;34m=\u001b[0m \u001b[0;36m1\u001b[0m\u001b[0;34m\u001b[0m\u001b[0;34m\u001b[0m\u001b[0m\n\u001b[1;32m     14\u001b[0m     \u001b[0mfiles\u001b[0m \u001b[0;34m=\u001b[0m \u001b[0mos\u001b[0m\u001b[0;34m.\u001b[0m\u001b[0mlistdir\u001b[0m\u001b[0;34m(\u001b[0m\u001b[0mpath\u001b[0m\u001b[0;34m)\u001b[0m\u001b[0;34m\u001b[0m\u001b[0;34m\u001b[0m\u001b[0m\n",
            "\u001b[0;31mFileNotFoundError\u001b[0m: [Errno 2] No such file or directory: 'C:\\\\Users\\\\Haris\\\\Desktop\\\\testing'"
          ]
        }
      ],
      "source": [
        "#Python Exercise 8: Solution + Tips |\n",
        "\n",
        "\n",
        "# Oh soldier Prettify my Folder\n",
        "\n",
        "# path, dictionary file, format\n",
        "\n",
        "# def soldier(\"C://\", \"harry.txt\", \"jpg\")\n",
        "\n",
        "import os\n",
        "def soldier(path, file, format):\n",
        "    os.chdir(path)\n",
        "    i = 1\n",
        "    files = os.listdir(path)\n",
        "    with open(file) as f:\n",
        "        filelist = f.read().split(\"\\n\")\n",
        "\n",
        "    for file in files:\n",
        "        if file not in filelist:\n",
        "            os.rename(file, file.capitalize())\n",
        "\n",
        "        if os.path.splitext(file)[1] == format:\n",
        "            os.rename(file, f\"{i}{format}\")\n",
        "            i +=1\n",
        "\n",
        "soldier(r\"C:\\Users\\Haris\\Desktop\\testing\",\n",
        "        r\"C:\\Users\\Haris\\PycharmProjects\\PythonTuts\\ext.txt\", \".png\" )\n"
      ]
    },
    {
      "cell_type": "code",
      "execution_count": null,
      "metadata": {
        "colab": {
          "base_uri": "https://localhost:8080/",
          "height": 130
        },
        "id": "YGspQJHQ-ZSD",
        "outputId": "01981e8e-8c0d-4cff-9c72-ef6c535f08de"
      },
      "outputs": [
        {
          "ename": "IndentationError",
          "evalue": "ignored",
          "output_type": "error",
          "traceback": [
            "\u001b[0;36m  File \u001b[0;32m\"<ipython-input-7-5bd44ed16e92>\"\u001b[0;36m, line \u001b[0;32m4\u001b[0m\n\u001b[0;31m    raise EXCEPTION_CLASS_NAME\u001b[0m\n\u001b[0m        ^\u001b[0m\n\u001b[0;31mIndentationError\u001b[0m\u001b[0;31m:\u001b[0m expected an indented block\n"
          ]
        }
      ],
      "source": [
        "#Syntax of raise keyword is:\n",
        "\n",
        "if test_condition:\n",
        "raise EXCEPTION_CLASS_NAME\n",
        "\n",
        "#example:   raise ZeroDivisionError"
      ]
    },
    {
      "cell_type": "code",
      "execution_count": null,
      "metadata": {
        "colab": {
          "base_uri": "https://localhost:8080/",
          "height": 200
        },
        "id": "I0NZ0o2C-o5e",
        "outputId": "0df2f08d-10c2-440c-cddd-f627c3254ce3"
      },
      "outputs": [
        {
          "ename": "ValueError",
          "evalue": "ignored",
          "output_type": "error",
          "traceback": [
            "\u001b[0;31m---------------------------------------------------------------------------\u001b[0m",
            "\u001b[0;31mValueError\u001b[0m                                Traceback (most recent call last)",
            "\u001b[0;32m<ipython-input-6-83bfb492c9b6>\u001b[0m in \u001b[0;36m<module>\u001b[0;34m()\u001b[0m\n\u001b[1;32m      4\u001b[0m \u001b[0mx\u001b[0m \u001b[0;34m=\u001b[0m \u001b[0;36m5\u001b[0m\u001b[0;34m\u001b[0m\u001b[0;34m\u001b[0m\u001b[0m\n\u001b[1;32m      5\u001b[0m \u001b[0;32mif\u001b[0m \u001b[0mx\u001b[0m \u001b[0;34m<\u001b[0m \u001b[0;36m10\u001b[0m\u001b[0;34m:\u001b[0m\u001b[0;34m\u001b[0m\u001b[0;34m\u001b[0m\u001b[0m\n\u001b[0;32m----> 6\u001b[0;31m    \u001b[0;32mraise\u001b[0m \u001b[0mValueError\u001b[0m\u001b[0;34m(\u001b[0m\u001b[0;34m'x should not be less than 10!'\u001b[0m\u001b[0;34m)\u001b[0m\u001b[0;34m\u001b[0m\u001b[0;34m\u001b[0m\u001b[0m\n\u001b[0m",
            "\u001b[0;31mValueError\u001b[0m: x should not be less than 10!"
          ]
        }
      ],
      "source": [
        "#use the raise keyword to signal that the situation is exceptional to the normal flow. \n",
        "#example;\n",
        "\n",
        "x = 5\n",
        "if x < 10:\n",
        "   raise ValueError('x should not be less than 10!')"
      ]
    },
    {
      "cell_type": "code",
      "execution_count": null,
      "metadata": {
        "id": "eG_5naRz-3oX"
      },
      "outputs": [],
      "source": [
        "# Raise In Python + Examples |\n",
        "\n",
        "\n",
        "# a = input(\"What is your name\")\n",
        "# b = input(\"How much do you earn\")\n",
        "# if int(b)==0:\n",
        "#     raise ZeroDivisionError(\"b is 0 so stopping the program\")\n",
        "# if a.isnumeric():\n",
        "#     raise Exception(\"Numbers are not allowed\")\n",
        "#\n",
        "# print(f\"Hello {a}\")\n",
        "# 1000 lines taking 1 hour\n",
        "\n",
        "# Task - Write about 2 built in exception\n",
        "\n",
        "c = input(\"Enter your name\")\n",
        "try:\n",
        "    print(a)\n",
        "\n",
        "except Exception as e:\n",
        "\n",
        "    if c ==\"harry\":\n",
        "        raise ValueError(\"Harry is blocked he is not allowed\")\n",
        "\n",
        "    print(\"Exception handled\")\n",
        "\n"
      ]
    },
    {
      "cell_type": "code",
      "execution_count": null,
      "metadata": {
        "colab": {
          "base_uri": "https://localhost:8080/"
        },
        "id": "GEjWPlYH_Hgi",
        "outputId": "a820bc78-24bc-4f5f-e1bf-47ceec72bfc5"
      },
      "outputs": [
        {
          "data": {
            "text/plain": [
              "True"
            ]
          },
          "execution_count": 5,
          "metadata": {},
          "output_type": "execute_result"
        }
      ],
      "source": [
        "#Equality operator (==)\n",
        "\n",
        "x = [1, 2, 3, 4]\n",
        "y= [1, 2, 3, 4]\n",
        "x == y\n",
        "#True"
      ]
    },
    {
      "cell_type": "code",
      "execution_count": null,
      "metadata": {
        "colab": {
          "base_uri": "https://localhost:8080/"
        },
        "id": "tbWzyIvb_TvC",
        "outputId": "2d0445ec-d426-4701-b6dc-c8b63927ad6d"
      },
      "outputs": [
        {
          "data": {
            "text/plain": [
              "False"
            ]
          },
          "execution_count": 2,
          "metadata": {},
          "output_type": "execute_result"
        }
      ],
      "source": [
        "#Identity operator (is)\n",
        "\n",
        "c = [1, 2, 3]\n",
        "d = [1, 2, 3]\n",
        "c == d #True\n",
        "c is d #False\n",
        "\n",
        "#‘c == d’ is still true. However, 'c is d' is now false. This is because both c and d refer to different objects.\n",
        "\n"
      ]
    },
    {
      "cell_type": "code",
      "execution_count": null,
      "metadata": {
        "colab": {
          "base_uri": "https://localhost:8080/"
        },
        "id": "RnsoShpJ_nAF",
        "outputId": "a1fd7f23-fe1c-4032-ef9b-d983c621ef5e"
      },
      "outputs": [
        {
          "name": "stdout",
          "output_type": "stream",
          "text": [
            "False\n"
          ]
        }
      ],
      "source": [
        "#Python 'is' vs '==': What's The Difference? \n",
        "\n",
        "# == - value equality - Two objects have the same value\n",
        "# is - reference equality - Two references refer to the same object\n",
        "\n",
        "\n",
        "# Task:\n",
        "a =[6, 4 , \"34\"]\n",
        "b = [6, 4 , \"34\"]\n",
        "print(b is a)\n"
      ]
    },
    {
      "cell_type": "code",
      "execution_count": null,
      "metadata": {
        "id": "Zs2kqoTH_1qA"
      },
      "outputs": [],
      "source": [
        "#What are the differences between Python 2 and Python 3?\n",
        "\n",
        "#Python 2:\n",
        "print \"Hello world!\"\n",
        "\n",
        "#Python 3:\n",
        "print (\"Hello world!\")\n",
        "\n",
        "#Python 2: \n",
        "user_input1 = raw_input(“entered_value”)\n",
        "\n",
        "#Python 3:\n",
        "user_input1 = input(“entered_value”)"
      ]
    },
    {
      "cell_type": "code",
      "execution_count": null,
      "metadata": {
        "id": "zPBAkXCo__5P"
      },
      "outputs": [],
      "source": [
        "def speak(str):\n",
        "      from win32com.client import Dispatch\n",
        "      speak=Dispatch(“SAPI.SpVoice”)\n",
        "      speak.Speak(str)\n",
        "\n",
        "if __name__= ’__main__’:\n",
        "     speak(“You are the best my friend”);\n",
        "\n",
        " #If you execute the following statements, you will hear a person reading a text given as a string argument in speak() function.     "
      ]
    },
    {
      "cell_type": "code",
      "execution_count": null,
      "metadata": {
        "id": "Pq3HqhUvANN0"
      },
      "outputs": [],
      "source": [
        "#Python Exercise 9 Solution + Shoutouts\n",
        "# Akhbaar padhke sunaao\n",
        "import requests\n",
        "import json\n",
        "\n",
        "def speak(str):\n",
        "    from win32com.client import Dispatch\n",
        "    speak = Dispatch(\"SAPI.SpVoice\")\n",
        "    speak.Speak(str)\n",
        "\n",
        "if __name__ == '__main__':\n",
        "    speak(\"News for today.. Lets begin\")\n",
        "    url = \"https://newsapi.org/v2/top-headlines?sources=the-times-of-india&apiKey=d093053d72bc40248998159804e0e67d\"\n",
        "    news = requests.get(url).text\n",
        "    news_dict = json.loads(news)\n",
        "    arts = news_dict['articles']\n",
        "    for article in arts:\n",
        "        speak(article['title'])\n",
        "        print(article['title'])\n",
        "        speak(\"Moving on to the next news..Listen Carefully\")\n",
        "\n",
        "    speak(\"Thanks for listening...\")\n",
        "\n",
        "\n"
      ]
    },
    {
      "cell_type": "code",
      "execution_count": null,
      "metadata": {
        "id": "pj3liqWwAYyM"
      },
      "outputs": [],
      "source": [
        "#Creating a Command Line Utility\n",
        "\n",
        "'''import argparse\n",
        "import sys'''\n",
        "\n",
        "\n",
        "import argparse\n",
        "import sys\n",
        "\n",
        "def calc(args):\n",
        "    if args.o == 'add':\n",
        "        return args.x + args.y\n",
        "\n",
        "    elif args.o == 'mul':\n",
        "        return args.x * args.y\n",
        "\n",
        "    elif args.o == 'sub':\n",
        "        return args.x - args.y\n",
        "\n",
        "    elif args.o == 'div':\n",
        "        return args.x / args.y\n",
        "\n",
        "    else:\n",
        "        return \"Something went wrong\"\n",
        "\n",
        "if __name__ == '__main__':\n",
        "    parser = argparse.ArgumentParser()\n",
        "    parser.add_argument('--x', type=float, default=1.0,\n",
        "                        help=\"Enter first number. This is a utility for calculation. Please contact harry bhai\")\n",
        "\n",
        "    parser.add_argument('--y', type=float, default=3.0,\n",
        "                        help=\"Enter second number. This is a utility for calculation. Please contact harry bhai\")\n",
        "\n",
        "    parser.add_argument('--o', type=str, default=\"add\",\n",
        "                        help=\"This is a utility for calculation. Please contact harry bhai for more\")\n",
        "\n",
        "    args = parser.parse_args()\n",
        "    sys.stdout.write(str(calc(args)))\n"
      ]
    },
    {
      "cell_type": "code",
      "execution_count": null,
      "metadata": {
        "id": "oLHc3vqMAskV"
      },
      "outputs": [],
      "source": [
        "#Exercise 10: Solution + Shoutouts |\n",
        "\n",
        "\n",
        "# pickle\n",
        "# Use requests module to download the iris dataset\n",
        "\n",
        "import requests\n",
        "import pickle\n",
        "\n",
        "data = requests.get(\"https://archive.ics.uci.edu/ml/machine-learning-databases/iris/iris.data\").text\n",
        "# print(data)\n",
        "\n",
        "# l1 = data.split(\"\\n\")\n",
        "# print(l1)\n",
        "\n",
        "l2 =[item.split(\",\") for item in data.split(\"\\n\") if len(item)!=0]\n",
        "# print(l2)\n",
        "\n",
        "with open(\"myiris.pkl\", \"wb\") as f:\n",
        "    pickle.dump(l2, f)\n",
        "\n",
        "\n",
        "# To read this pickle file you can use this code\n",
        "# import pickle\n",
        "# with open(\"myiris.pkl\", \"rb\") as f:\n",
        "#     print(pickle.load(f))\n"
      ]
    },
    {
      "cell_type": "code",
      "execution_count": null,
      "metadata": {
        "id": "0qK0mM6lA0iO"
      },
      "outputs": [],
      "source": [
        "#Creating a Python Package Using Setuptools \n",
        "\n",
        "'''name: The name of the package. We can give our package any name of our choice.\n",
        "version: The starting version should be 0.1 because, with any update, it automatically increases it to one decimal place.\n",
        "description: Here, we give a brief description of our package and its functionalities and uses.\n",
        "long_description: In the long description we give an explanatory description of our package\n",
        "author: We can specify the creator of the package here\n",
        "packages: Here we give the name by which we want our package to be called or imported\n",
        "install_requires: If our package has a prerequisite package, then we have to specify that here so both of them can work simultaneously and can perform better.'''\n",
        "\n",
        "\n"
      ]
    },
    {
      "cell_type": "code",
      "execution_count": null,
      "metadata": {
        "id": "E5SysCh6BXLJ"
      },
      "outputs": [],
      "source": [
        "#Code setup.py \n",
        "\n",
        "\n",
        "from setuptools import setup\n",
        "setup(name=\"packageharry\",\n",
        "version=\"0.3\",\n",
        "description=\"This is code with harry package\",\n",
        "long_description = \"This is a very very long description\",\n",
        "author=\"Harry\",\n",
        "packages=['packageharry'],\n",
        "install_requires=[])\n"
      ]
    },
    {
      "cell_type": "code",
      "execution_count": null,
      "metadata": {
        "id": "D8SH6gAXBgLX"
      },
      "outputs": [],
      "source": [
        "#Code __init__.py as\n",
        "\n",
        "\n",
        "class Achha:\n",
        "    def __init__(self):\n",
        "        print(\"Constructor ban gaya\")\n",
        "\n",
        "    def achhafunc(self, number):\n",
        "        print(\"This is a function\")\n",
        "        return number\n",
        "\n",
        "\n"
      ]
    },
    {
      "cell_type": "code",
      "execution_count": null,
      "metadata": {
        "id": "RWj5DzrJBl65"
      },
      "outputs": [],
      "source": [
        "#Python Exercise 11: Regex Email Extractor\n",
        "\n",
        "\n",
        "# Email Collector\n",
        "str ='''\n",
        "2\n",
        "'''\n",
        "# email1\n",
        "# email2\n",
        "# email3\n",
        "\n"
      ]
    },
    {
      "cell_type": "markdown",
      "metadata": {
        "id": "WvnsXcGsCFi2"
      },
      "source": [
        "# the END"
      ]
    }
  ],
  "metadata": {
    "colab": {
      "collapsed_sections": [],
      "name": "Haary python full code .ipynb",
      "provenance": [],
      "authorship_tag": "ABX9TyMzA7pPkivsmcSI7S8hE6IP",
      "include_colab_link": true
    },
    "kernelspec": {
      "display_name": "Python 3",
      "name": "python3"
    },
    "language_info": {
      "name": "python"
    }
  },
  "nbformat": 4,
  "nbformat_minor": 0
}